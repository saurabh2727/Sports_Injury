{
 "cells": [
  {
   "cell_type": "code",
   "execution_count": 1,
   "metadata": {
    "collapsed": true
   },
   "outputs": [],
   "source": [
    "# Import required packages\n",
    "import numpy as np\n",
    "import pandas as pd\n",
    "import seaborn as sns\n",
    "import matplotlib.pyplot as plt\n",
    "import warnings\n",
    "warnings.filterwarnings(\"ignore\")\n",
    "from sklearn import preprocessing\n",
    "from sklearn.model_selection import train_test_split\n",
    "from pandas.plotting import scatter_matrix\n",
    "from matplotlib.pyplot import figure, show\n",
    "from sklearn.model_selection import cross_val_score\n",
    "from sklearn.tree import DecisionTreeRegressor\n",
    "from sklearn.pipeline import Pipeline\n",
    "from sklearn.model_selection import GridSearchCV\n",
    "from sklearn.feature_selection import SelectKBest, f_regression, mutual_info_regression\n",
    "from sklearn.metrics import mean_squared_error"
   ]
  },
  {
   "cell_type": "code",
   "execution_count": 2,
   "metadata": {
    "collapsed": true
   },
   "outputs": [],
   "source": [
    "# Creating names for columns, read the dataset using pandas dataframe and replacing all null values with '?'"
   ]
  },
  {
   "cell_type": "code",
   "execution_count": 3,
   "metadata": {
    "collapsed": true
   },
   "outputs": [],
   "source": [
    "# Creating a list for column names\n",
    "names = ['index','injury_date','player_code', 'name', 'description', 'sport', \n",
    "         'weight','height', 'age','days_to_play', 'injury_year', 'injury_month']"
   ]
  },
  {
   "cell_type": "markdown",
   "metadata": {},
   "source": [
    "test_file = open('./input/all.csv')\n",
    "for line in test_file:\n",
    "    print(line.strip())"
   ]
  },
  {
   "cell_type": "code",
   "execution_count": 13,
   "metadata": {
    "collapsed": true
   },
   "outputs": [],
   "source": [
    "df = pd.read_csv(\"./input/all.csv\", na_values=['?'], \n",
    "     names = names)"
   ]
  },
  {
   "cell_type": "code",
   "execution_count": 14,
   "metadata": {},
   "outputs": [
    {
     "data": {
      "text/plain": [
       "Index(['index', 'injury_date', 'player_code', 'name', 'description', 'sport',\n",
       "       'weight', 'height', 'age', 'days_to_play', 'injury_year',\n",
       "       'injury_month'],\n",
       "      dtype='object')"
      ]
     },
     "execution_count": 14,
     "metadata": {},
     "output_type": "execute_result"
    }
   ],
   "source": [
    "# Checking, if all the column names are added correctly\n",
    "df.columns"
   ]
  },
  {
   "cell_type": "code",
   "execution_count": 15,
   "metadata": {
    "collapsed": true
   },
   "outputs": [],
   "source": [
    "# We don't require time series data for this model, thus dropping injury_date from the dataframe, \n",
    "# also other coloums not suitable for this study \n",
    "df.drop(['injury_date'], 1, inplace=True)\n",
    "df.drop(['injury_year'], 1, inplace=True)\n",
    "df.drop(['index'], 1, inplace=True)\n",
    "df.drop(['name'], 1, inplace=True)\n",
    "df.drop(['player_code'], 1, inplace=True)"
   ]
  },
  {
   "cell_type": "code",
   "execution_count": 16,
   "metadata": {
    "collapsed": true
   },
   "outputs": [],
   "source": [
    "# In the dataset for the sport basketball, bball has been recorded, which sometimes confuses. \n",
    "# Thus we will change all the occurance of bball to basketball.\n",
    "df['sport'] = df['sport'].replace ({'bball':'basketball'})"
   ]
  },
  {
   "cell_type": "code",
   "execution_count": 17,
   "metadata": {
    "scrolled": true
   },
   "outputs": [
    {
     "data": {
      "text/html": [
       "<div>\n",
       "<style scoped>\n",
       "    .dataframe tbody tr th:only-of-type {\n",
       "        vertical-align: middle;\n",
       "    }\n",
       "\n",
       "    .dataframe tbody tr th {\n",
       "        vertical-align: top;\n",
       "    }\n",
       "\n",
       "    .dataframe thead th {\n",
       "        text-align: right;\n",
       "    }\n",
       "</style>\n",
       "<table border=\"1\" class=\"dataframe\">\n",
       "  <thead>\n",
       "    <tr style=\"text-align: right;\">\n",
       "      <th></th>\n",
       "      <th>description</th>\n",
       "      <th>sport</th>\n",
       "      <th>weight</th>\n",
       "      <th>height</th>\n",
       "      <th>age</th>\n",
       "      <th>days_to_play</th>\n",
       "      <th>injury_month</th>\n",
       "    </tr>\n",
       "  </thead>\n",
       "  <tbody>\n",
       "    <tr>\n",
       "      <th>0</th>\n",
       "      <td>torn ligament in left thumb</td>\n",
       "      <td>basketball</td>\n",
       "      <td>81.0</td>\n",
       "      <td>220.0</td>\n",
       "      <td>23</td>\n",
       "      <td>10</td>\n",
       "      <td>10</td>\n",
       "    </tr>\n",
       "    <tr>\n",
       "      <th>1</th>\n",
       "      <td>placed on IR with back strain</td>\n",
       "      <td>basketball</td>\n",
       "      <td>82.0</td>\n",
       "      <td>227.0</td>\n",
       "      <td>22</td>\n",
       "      <td>36</td>\n",
       "      <td>11</td>\n",
       "    </tr>\n",
       "    <tr>\n",
       "      <th>2</th>\n",
       "      <td>placed on IL with left elbow bursitis</td>\n",
       "      <td>basketball</td>\n",
       "      <td>73.0</td>\n",
       "      <td>180.0</td>\n",
       "      <td>24</td>\n",
       "      <td>11</td>\n",
       "      <td>1</td>\n",
       "    </tr>\n",
       "    <tr>\n",
       "      <th>3</th>\n",
       "      <td>placed on IL with left ankle tendinitis</td>\n",
       "      <td>basketball</td>\n",
       "      <td>73.0</td>\n",
       "      <td>180.0</td>\n",
       "      <td>23</td>\n",
       "      <td>14</td>\n",
       "      <td>11</td>\n",
       "    </tr>\n",
       "    <tr>\n",
       "      <th>4</th>\n",
       "      <td>placed on IL with bruised left shoulder</td>\n",
       "      <td>basketball</td>\n",
       "      <td>73.0</td>\n",
       "      <td>180.0</td>\n",
       "      <td>24</td>\n",
       "      <td>10</td>\n",
       "      <td>4</td>\n",
       "    </tr>\n",
       "  </tbody>\n",
       "</table>\n",
       "</div>"
      ],
      "text/plain": [
       "                               description       sport  weight  height  age  \\\n",
       "0             torn ligament in left thumb   basketball    81.0   220.0   23   \n",
       "1            placed on IR with back strain  basketball    82.0   227.0   22   \n",
       "2    placed on IL with left elbow bursitis  basketball    73.0   180.0   24   \n",
       "3  placed on IL with left ankle tendinitis  basketball    73.0   180.0   23   \n",
       "4  placed on IL with bruised left shoulder  basketball    73.0   180.0   24   \n",
       "\n",
       "   days_to_play  injury_month  \n",
       "0            10            10  \n",
       "1            36            11  \n",
       "2            11             1  \n",
       "3            14            11  \n",
       "4            10             4  "
      ]
     },
     "execution_count": 17,
     "metadata": {},
     "output_type": "execute_result"
    }
   ],
   "source": [
    "# print the top 5 rows of the dataset\n",
    "df.head()"
   ]
  },
  {
   "cell_type": "code",
   "execution_count": 18,
   "metadata": {},
   "outputs": [
    {
     "data": {
      "text/plain": [
       "description      object\n",
       "sport            object\n",
       "weight          float64\n",
       "height          float64\n",
       "age               int64\n",
       "days_to_play      int64\n",
       "injury_month      int64\n",
       "dtype: object"
      ]
     },
     "execution_count": 18,
     "metadata": {},
     "output_type": "execute_result"
    }
   ],
   "source": [
    "#Checking data types of all the features\n",
    "df.dtypes"
   ]
  },
  {
   "cell_type": "markdown",
   "metadata": {},
   "source": [
    "# Features Data types:\n",
    "Since the data types are not correct for all the features, changing to appropriate data types"
   ]
  },
  {
   "cell_type": "code",
   "execution_count": 19,
   "metadata": {
    "collapsed": true
   },
   "outputs": [],
   "source": [
    "df[\"description\"] = df[\"description\"].astype('category')\n",
    "df[\"sport\"] = df[\"sport\"].astype('category')\n",
    "df[\"weight\"] = df[\"weight\"].astype('float')\n",
    "df[\"height\"] = df[\"height\"].astype('float')\n",
    "df[\"age\"] = df[\"age\"].astype('float')\n",
    "df[\"days_to_play\"] = df[\"days_to_play\"].astype('float')\n",
    "df[\"injury_month\"] = df[\"injury_month\"].astype('category')"
   ]
  },
  {
   "cell_type": "code",
   "execution_count": 20,
   "metadata": {},
   "outputs": [
    {
     "data": {
      "text/html": [
       "<div>\n",
       "<style scoped>\n",
       "    .dataframe tbody tr th:only-of-type {\n",
       "        vertical-align: middle;\n",
       "    }\n",
       "\n",
       "    .dataframe tbody tr th {\n",
       "        vertical-align: top;\n",
       "    }\n",
       "\n",
       "    .dataframe thead th {\n",
       "        text-align: right;\n",
       "    }\n",
       "</style>\n",
       "<table border=\"1\" class=\"dataframe\">\n",
       "  <thead>\n",
       "    <tr style=\"text-align: right;\">\n",
       "      <th></th>\n",
       "      <th>weight</th>\n",
       "      <th>height</th>\n",
       "      <th>age</th>\n",
       "      <th>days_to_play</th>\n",
       "    </tr>\n",
       "  </thead>\n",
       "  <tbody>\n",
       "    <tr>\n",
       "      <th>count</th>\n",
       "      <td>69247.000000</td>\n",
       "      <td>69253.000000</td>\n",
       "      <td>69254.000000</td>\n",
       "      <td>69254.000000</td>\n",
       "    </tr>\n",
       "    <tr>\n",
       "      <th>mean</th>\n",
       "      <td>76.305587</td>\n",
       "      <td>220.014714</td>\n",
       "      <td>27.785500</td>\n",
       "      <td>99.495495</td>\n",
       "    </tr>\n",
       "    <tr>\n",
       "      <th>std</th>\n",
       "      <td>4.172740</td>\n",
       "      <td>31.479919</td>\n",
       "      <td>5.372872</td>\n",
       "      <td>347.626770</td>\n",
       "    </tr>\n",
       "    <tr>\n",
       "      <th>min</th>\n",
       "      <td>64.000000</td>\n",
       "      <td>135.000000</td>\n",
       "      <td>-10.000000</td>\n",
       "      <td>0.000000</td>\n",
       "    </tr>\n",
       "    <tr>\n",
       "      <th>25%</th>\n",
       "      <td>73.000000</td>\n",
       "      <td>198.000000</td>\n",
       "      <td>24.000000</td>\n",
       "      <td>4.000000</td>\n",
       "    </tr>\n",
       "    <tr>\n",
       "      <th>50%</th>\n",
       "      <td>76.000000</td>\n",
       "      <td>215.000000</td>\n",
       "      <td>27.000000</td>\n",
       "      <td>14.000000</td>\n",
       "    </tr>\n",
       "    <tr>\n",
       "      <th>75%</th>\n",
       "      <td>80.000000</td>\n",
       "      <td>235.000000</td>\n",
       "      <td>31.000000</td>\n",
       "      <td>59.000000</td>\n",
       "    </tr>\n",
       "    <tr>\n",
       "      <th>max</th>\n",
       "      <td>91.000000</td>\n",
       "      <td>375.000000</td>\n",
       "      <td>157.000000</td>\n",
       "      <td>11797.000000</td>\n",
       "    </tr>\n",
       "  </tbody>\n",
       "</table>\n",
       "</div>"
      ],
      "text/plain": [
       "             weight        height           age  days_to_play\n",
       "count  69247.000000  69253.000000  69254.000000  69254.000000\n",
       "mean      76.305587    220.014714     27.785500     99.495495\n",
       "std        4.172740     31.479919      5.372872    347.626770\n",
       "min       64.000000    135.000000    -10.000000      0.000000\n",
       "25%       73.000000    198.000000     24.000000      4.000000\n",
       "50%       76.000000    215.000000     27.000000     14.000000\n",
       "75%       80.000000    235.000000     31.000000     59.000000\n",
       "max       91.000000    375.000000    157.000000  11797.000000"
      ]
     },
     "execution_count": 20,
     "metadata": {},
     "output_type": "execute_result"
    }
   ],
   "source": [
    "# Show all the statistical measures of the data set using describe function\n",
    "df.describe()"
   ]
  },
  {
   "cell_type": "markdown",
   "metadata": {},
   "source": [
    "The above table confirms presence of missing values and also some outliers, \n",
    "as maximum age of 157 years is an impossible value. 11797 days also can be considered as outlier."
   ]
  },
  {
   "cell_type": "code",
   "execution_count": 21,
   "metadata": {},
   "outputs": [
    {
     "data": {
      "text/plain": [
       "description     2\n",
       "sport           0\n",
       "weight          7\n",
       "height          1\n",
       "age             0\n",
       "days_to_play    0\n",
       "injury_month    0\n",
       "dtype: int64"
      ]
     },
     "execution_count": 21,
     "metadata": {},
     "output_type": "execute_result"
    }
   ],
   "source": [
    "# Checking if any null values present in the dataframe\n",
    "df.isna().sum()"
   ]
  },
  {
   "cell_type": "markdown",
   "metadata": {},
   "source": [
    "Features with non zero values, represents missing values. Which means description, weight and height have some missing values.\n",
    "Since missing values are very low in numbers, it is safe to drop all null values, if present."
   ]
  },
  {
   "cell_type": "code",
   "execution_count": 22,
   "metadata": {
    "collapsed": true
   },
   "outputs": [],
   "source": [
    "df.dropna(inplace = True)"
   ]
  },
  {
   "cell_type": "markdown",
   "metadata": {},
   "source": [
    "# Feature extraction:\n"
   ]
  },
  {
   "cell_type": "code",
   "execution_count": 23,
   "metadata": {
    "collapsed": true
   },
   "outputs": [],
   "source": [
    "#convert description column to lower case to process the data\n",
    "df['description'] = df['description'].str.lower()"
   ]
  },
  {
   "cell_type": "markdown",
   "metadata": {},
   "source": [
    "The following operations are performed to seperate body parts and injury types from the Description column. \n",
    "Also, some bodyparts are recored with different names like abdomen is recorded as appendectomy, \n",
    "appendicitis and abdominal. This code replaces mentioned multiple body parts, which has same meaning to uniform body part, \n",
    "for example if the word appendectomy found, the code replaces the word with abdomen "
   ]
  },
  {
   "cell_type": "code",
   "execution_count": 24,
   "metadata": {
    "collapsed": true
   },
   "outputs": [],
   "source": [
    "df['description'] = df['description'].replace ({'appendectomy':'abdomen', \n",
    "'appendicitis': 'abdomen', 'abdominal':'abdomen','hernia': 'stomach', \n",
    "'concussion':'brain', 'corneal':'eye', 'respiratory':'lung', \n",
    "'gastrocnemius':'calf', 'gastrointestinal': 'stomach',  \n",
    "'thrombocytopenia':'blood disorder', 'dental': 'tooth', \n",
    "'double vision' :'eye' , 'oral surgery': 'mouth', 'osteitis pubis':'pubic', \n",
    "'tonsilitis': 'throat','lumber spine' : 'spine', 'facial' : 'face' })\n"
   ]
  },
  {
   "cell_type": "code",
   "execution_count": 25,
   "metadata": {
    "collapsed": true
   },
   "outputs": [],
   "source": [
    "# Below is function to find the match, which expects a string value and compare the value with given list.\n",
    "def search_pattern(s, bodyparts):\n",
    "    found_bodyparts = [bodypart for bodypart in bodyparts if bodypart in s]\n",
    "    if len(found_bodyparts)==1:\n",
    "        return ', '.join(found_bodyparts)\n",
    "    else:\n",
    "        return None\n"
   ]
  },
  {
   "cell_type": "code",
   "execution_count": 26,
   "metadata": {
    "collapsed": true
   },
   "outputs": [],
   "source": [
    "# List, for all possible names of body parts and injury types, observed from the dataset\n",
    "bodyparts = ['thumb', 'back', 'elbow', 'shoulder', 'ankle', 'knee', 'achilles', \n",
    "             'arm', 'arthoscopic', 'bicep','calf', 'cervical', 'chest', \n",
    "             'collarbone', 'eye', 'facial', 'fibula', 'finger', 'foot', \n",
    "             'forearm', 'flexor', 'groin', 'hand', 'hamstring', 'head', \n",
    "             'heel', 'hip', 'jaw', 'leg', 'mouth', 'meniscus',\n",
    "             'neck', 'nose', 'oblique', 'pectoral', 'quadricep', 'rib','ribcage',\n",
    "             'shin', 'sinus','stomach', 'thigh', 'toe', 'triceps', 'wrist', \n",
    "             'throat', 'tibia','tailbone', 'tooth', 'rotator cuff', 'appendix',\n",
    "             'kidney', 'lung','cheekbone','pelvis',  'patellar', 'heart',\n",
    "              'patella', 'spine']\n",
    "\n",
    "\n",
    "injurytype = ['torn','virus','stiff','sprain','spasm','surgery','sore',\n",
    "              'rupture','pulled','flu','plantar_fasciitis','lacerate',\n",
    "              'harnia', 'inflammation', 'infection', 'illness','fractured',\n",
    "              'food_poisoning','cramp','dizziness', 'concussion', 'strain', \n",
    "              'bursitis','tendinitis','ailment',  'appendectomy', \n",
    "              'broken','bruise' ]"
   ]
  },
  {
   "cell_type": "code",
   "execution_count": 27,
   "metadata": {
    "collapsed": true
   },
   "outputs": [],
   "source": [
    "# Now we will apply search pattern function to create seperate columns to body part and injury type\n",
    "df['bodyparts'] = df['description'].apply(lambda x : search_pattern(x, bodyparts))\n",
    "df['injury_type'] = df['description'].apply(lambda x : search_pattern(x, injurytype))\n",
    "df[\"bodyparts\"] = df[\"bodyparts\"].astype('category')\n",
    "df[\"injury_type\"] = df[\"injury_type\"].astype('category')\n",
    "df.drop(['description'], 1, inplace=True)\n",
    "df.dropna(inplace = True)"
   ]
  },
  {
   "cell_type": "code",
   "execution_count": 28,
   "metadata": {
    "collapsed": true
   },
   "outputs": [],
   "source": [
    "# n order to improve the correlation between feature 'height' and 'weight' and the target variable. \n",
    "# Here is the function to calculate BMI index, from heights and weights of the players, as part of feature reduction\n",
    "def convert_into_BMI (w, h_cm):\n",
    "    h_m = h_cm/100\n",
    "    BMI = w/(h_m*h_m)\n",
    "    return BMI\n",
    "df['BMI'] = convert_into_BMI(df['weight'], df['height'])"
   ]
  },
  {
   "cell_type": "markdown",
   "metadata": {},
   "source": [
    "# Remove Outliers: \n",
    "The below code removes outliers from the dataset outside of 1.5 standard deviation, which I have \n",
    "used to remove outliers from feature 'age', 'days_to_play' and 'BMI'."
   ]
  },
  {
   "cell_type": "code",
   "execution_count": 29,
   "metadata": {
    "collapsed": true
   },
   "outputs": [],
   "source": [
    "def reject_outliers(data):\n",
    "    u = np.mean(data)\n",
    "    s = np.std(data)\n",
    "    f1 = u - 1.5*s\n",
    "    f2 = u + 1.5*s\n",
    "    filtered = np.where(data.between(f1,f2),data, data.median())\n",
    "    return filtered\n",
    "\n",
    "df['days_replaced'] = reject_outliers(df['days_to_play'])\n",
    "df['age'] = reject_outliers(df['age'])\n",
    "df['BMI'] = reject_outliers(df['BMI'])\n",
    "df['height'] = reject_outliers(df['height'])\n",
    "df['weight'] = reject_outliers(df['weight'])\n",
    "df.drop(['days_to_play'], 1, inplace=True)"
   ]
  },
  {
   "cell_type": "markdown",
   "metadata": {},
   "source": [
    "# Data insights using pandas dataframe (added after phase 1)"
   ]
  },
  {
   "cell_type": "code",
   "execution_count": 30,
   "metadata": {
    "collapsed": true
   },
   "outputs": [],
   "source": [
    "# Avg days to return to the sport for all bodyparts injury \n",
    "df_agg_bodyparts = df.groupby( 'bodyparts').agg(np.mean).round().sort_values(\"days_replaced\", ascending=False).reset_index()"
   ]
  },
  {
   "cell_type": "code",
   "execution_count": 31,
   "metadata": {},
   "outputs": [
    {
     "data": {
      "image/png": "[encoded data removed]",
      "text/plain": [
       "<Figure size 720x720 with 1 Axes>"
      ]
     },
     "metadata": {},
     "output_type": "display_data"
    }
   ],
   "source": [
    "import seaborn as sns\n",
    "sns.set(style=\"whitegrid\")\n",
    "plt.figure(figsize=(10,10))\n",
    "ax = sns.barplot(y=\"bodyparts\", x=\"days_replaced\", data=df_agg_bodyparts)\n",
    "plt.xlabel('bodyparts', fontsize=15)\n",
    "plt.ylabel('Days taken to return to sport', fontsize=15)\n",
    "plt.title('Fig. :Avg. days taken to return to the sport for each bodyparts injury', fontsize=20)\n",
    "plt.show()"
   ]
  },
  {
   "cell_type": "code",
   "execution_count": 32,
   "metadata": {},
   "outputs": [
    {
     "data": {
      "text/html": [
       "<div>\n",
       "<style scoped>\n",
       "    .dataframe tbody tr th:only-of-type {\n",
       "        vertical-align: middle;\n",
       "    }\n",
       "\n",
       "    .dataframe tbody tr th {\n",
       "        vertical-align: top;\n",
       "    }\n",
       "\n",
       "    .dataframe thead th {\n",
       "        text-align: right;\n",
       "    }\n",
       "</style>\n",
       "<table border=\"1\" class=\"dataframe\">\n",
       "  <thead>\n",
       "    <tr style=\"text-align: right;\">\n",
       "      <th></th>\n",
       "      <th></th>\n",
       "      <th>BMI</th>\n",
       "      <th>age</th>\n",
       "      <th>days_replaced</th>\n",
       "      <th>height</th>\n",
       "      <th>weight</th>\n",
       "    </tr>\n",
       "    <tr>\n",
       "      <th>sport</th>\n",
       "      <th>bodyparts</th>\n",
       "      <th></th>\n",
       "      <th></th>\n",
       "      <th></th>\n",
       "      <th></th>\n",
       "      <th></th>\n",
       "    </tr>\n",
       "  </thead>\n",
       "  <tbody>\n",
       "    <tr>\n",
       "      <th rowspan=\"5\" valign=\"top\">hockey</th>\n",
       "      <th>shoulder</th>\n",
       "      <td>16.0</td>\n",
       "      <td>26.0</td>\n",
       "      <td>413.0</td>\n",
       "      <td>215.0</td>\n",
       "      <td>72.0</td>\n",
       "    </tr>\n",
       "    <tr>\n",
       "      <th>meniscus</th>\n",
       "      <td>21.0</td>\n",
       "      <td>24.0</td>\n",
       "      <td>238.0</td>\n",
       "      <td>184.0</td>\n",
       "      <td>78.0</td>\n",
       "    </tr>\n",
       "    <tr>\n",
       "      <th>ankle</th>\n",
       "      <td>15.0</td>\n",
       "      <td>28.0</td>\n",
       "      <td>216.0</td>\n",
       "      <td>220.0</td>\n",
       "      <td>74.0</td>\n",
       "    </tr>\n",
       "    <tr>\n",
       "      <th>neck</th>\n",
       "      <td>16.0</td>\n",
       "      <td>21.0</td>\n",
       "      <td>197.0</td>\n",
       "      <td>216.0</td>\n",
       "      <td>76.0</td>\n",
       "    </tr>\n",
       "    <tr>\n",
       "      <th>pectoral</th>\n",
       "      <td>21.0</td>\n",
       "      <td>28.0</td>\n",
       "      <td>193.0</td>\n",
       "      <td>182.0</td>\n",
       "      <td>78.0</td>\n",
       "    </tr>\n",
       "  </tbody>\n",
       "</table>\n",
       "</div>"
      ],
      "text/plain": [
       "                   BMI   age  days_replaced  height  weight\n",
       "sport  bodyparts                                           \n",
       "hockey shoulder   16.0  26.0          413.0   215.0    72.0\n",
       "       meniscus   21.0  24.0          238.0   184.0    78.0\n",
       "       ankle      15.0  28.0          216.0   220.0    74.0\n",
       "       neck       16.0  21.0          197.0   216.0    76.0\n",
       "       pectoral   21.0  28.0          193.0   182.0    78.0"
      ]
     },
     "execution_count": 32,
     "metadata": {},
     "output_type": "execute_result"
    }
   ],
   "source": [
    "# Top 5 bodyparts injury, taking longest to return to sport hockey, baseball, basketball and football\n",
    "df_agg_sports = df.groupby(['sport', 'bodyparts']).first().round().sort_values('days_replaced', ascending=False).sort_index(level=[0], ascending=[True])\n",
    "df_agg_sports.iloc[df_agg_sports.index.get_level_values('sport') == 'hockey'].sort_values('days_replaced', ascending=False).sort_index(level=[0], ascending=[True]).head()"
   ]
  },
  {
   "cell_type": "code",
   "execution_count": 33,
   "metadata": {},
   "outputs": [
    {
     "data": {
      "text/html": [
       "<div>\n",
       "<style scoped>\n",
       "    .dataframe tbody tr th:only-of-type {\n",
       "        vertical-align: middle;\n",
       "    }\n",
       "\n",
       "    .dataframe tbody tr th {\n",
       "        vertical-align: top;\n",
       "    }\n",
       "\n",
       "    .dataframe thead th {\n",
       "        text-align: right;\n",
       "    }\n",
       "</style>\n",
       "<table border=\"1\" class=\"dataframe\">\n",
       "  <thead>\n",
       "    <tr style=\"text-align: right;\">\n",
       "      <th></th>\n",
       "      <th></th>\n",
       "      <th>BMI</th>\n",
       "      <th>age</th>\n",
       "      <th>days_replaced</th>\n",
       "      <th>height</th>\n",
       "      <th>weight</th>\n",
       "    </tr>\n",
       "    <tr>\n",
       "      <th>sport</th>\n",
       "      <th>bodyparts</th>\n",
       "      <th></th>\n",
       "      <th></th>\n",
       "      <th></th>\n",
       "      <th></th>\n",
       "      <th></th>\n",
       "    </tr>\n",
       "  </thead>\n",
       "  <tbody>\n",
       "    <tr>\n",
       "      <th rowspan=\"5\" valign=\"top\">baseball</th>\n",
       "      <th>nose</th>\n",
       "      <td>16.0</td>\n",
       "      <td>29.0</td>\n",
       "      <td>443.0</td>\n",
       "      <td>210.0</td>\n",
       "      <td>72.0</td>\n",
       "    </tr>\n",
       "    <tr>\n",
       "      <th>ankle</th>\n",
       "      <td>16.0</td>\n",
       "      <td>25.0</td>\n",
       "      <td>353.0</td>\n",
       "      <td>210.0</td>\n",
       "      <td>78.0</td>\n",
       "    </tr>\n",
       "    <tr>\n",
       "      <th>arm</th>\n",
       "      <td>16.0</td>\n",
       "      <td>33.0</td>\n",
       "      <td>339.0</td>\n",
       "      <td>215.0</td>\n",
       "      <td>75.0</td>\n",
       "    </tr>\n",
       "    <tr>\n",
       "      <th>achilles</th>\n",
       "      <td>19.0</td>\n",
       "      <td>26.0</td>\n",
       "      <td>333.0</td>\n",
       "      <td>195.0</td>\n",
       "      <td>72.0</td>\n",
       "    </tr>\n",
       "    <tr>\n",
       "      <th>elbow</th>\n",
       "      <td>17.0</td>\n",
       "      <td>26.0</td>\n",
       "      <td>319.0</td>\n",
       "      <td>205.0</td>\n",
       "      <td>73.0</td>\n",
       "    </tr>\n",
       "  </tbody>\n",
       "</table>\n",
       "</div>"
      ],
      "text/plain": [
       "                     BMI   age  days_replaced  height  weight\n",
       "sport    bodyparts                                           \n",
       "baseball nose       16.0  29.0          443.0   210.0    72.0\n",
       "         ankle      16.0  25.0          353.0   210.0    78.0\n",
       "         arm        16.0  33.0          339.0   215.0    75.0\n",
       "         achilles   19.0  26.0          333.0   195.0    72.0\n",
       "         elbow      17.0  26.0          319.0   205.0    73.0"
      ]
     },
     "execution_count": 33,
     "metadata": {},
     "output_type": "execute_result"
    }
   ],
   "source": [
    "# Most time taking bodyparts for baseball\n",
    "df_agg_sports.iloc[df_agg_sports.index.get_level_values('sport') == 'baseball'].head()"
   ]
  },
  {
   "cell_type": "code",
   "execution_count": 34,
   "metadata": {},
   "outputs": [
    {
     "data": {
      "text/html": [
       "<div>\n",
       "<style scoped>\n",
       "    .dataframe tbody tr th:only-of-type {\n",
       "        vertical-align: middle;\n",
       "    }\n",
       "\n",
       "    .dataframe tbody tr th {\n",
       "        vertical-align: top;\n",
       "    }\n",
       "\n",
       "    .dataframe thead th {\n",
       "        text-align: right;\n",
       "    }\n",
       "</style>\n",
       "<table border=\"1\" class=\"dataframe\">\n",
       "  <thead>\n",
       "    <tr style=\"text-align: right;\">\n",
       "      <th></th>\n",
       "      <th></th>\n",
       "      <th>BMI</th>\n",
       "      <th>age</th>\n",
       "      <th>days_replaced</th>\n",
       "      <th>height</th>\n",
       "      <th>weight</th>\n",
       "    </tr>\n",
       "    <tr>\n",
       "      <th>sport</th>\n",
       "      <th>bodyparts</th>\n",
       "      <th></th>\n",
       "      <th></th>\n",
       "      <th></th>\n",
       "      <th></th>\n",
       "      <th></th>\n",
       "    </tr>\n",
       "  </thead>\n",
       "  <tbody>\n",
       "    <tr>\n",
       "      <th rowspan=\"5\" valign=\"top\">basketball</th>\n",
       "      <th>leg</th>\n",
       "      <td>18.0</td>\n",
       "      <td>34.0</td>\n",
       "      <td>423.0</td>\n",
       "      <td>208.0</td>\n",
       "      <td>77.0</td>\n",
       "    </tr>\n",
       "    <tr>\n",
       "      <th>heart</th>\n",
       "      <td>12.0</td>\n",
       "      <td>29.0</td>\n",
       "      <td>384.0</td>\n",
       "      <td>256.0</td>\n",
       "      <td>81.0</td>\n",
       "    </tr>\n",
       "    <tr>\n",
       "      <th>kidney</th>\n",
       "      <td>14.0</td>\n",
       "      <td>33.0</td>\n",
       "      <td>321.0</td>\n",
       "      <td>240.0</td>\n",
       "      <td>82.0</td>\n",
       "    </tr>\n",
       "    <tr>\n",
       "      <th>triceps</th>\n",
       "      <td>12.0</td>\n",
       "      <td>28.0</td>\n",
       "      <td>280.0</td>\n",
       "      <td>252.0</td>\n",
       "      <td>78.0</td>\n",
       "    </tr>\n",
       "    <tr>\n",
       "      <th>facial</th>\n",
       "      <td>15.0</td>\n",
       "      <td>26.0</td>\n",
       "      <td>203.0</td>\n",
       "      <td>235.0</td>\n",
       "      <td>83.0</td>\n",
       "    </tr>\n",
       "  </tbody>\n",
       "</table>\n",
       "</div>"
      ],
      "text/plain": [
       "                       BMI   age  days_replaced  height  weight\n",
       "sport      bodyparts                                           \n",
       "basketball leg        18.0  34.0          423.0   208.0    77.0\n",
       "           heart      12.0  29.0          384.0   256.0    81.0\n",
       "           kidney     14.0  33.0          321.0   240.0    82.0\n",
       "           triceps    12.0  28.0          280.0   252.0    78.0\n",
       "           facial     15.0  26.0          203.0   235.0    83.0"
      ]
     },
     "execution_count": 34,
     "metadata": {},
     "output_type": "execute_result"
    }
   ],
   "source": [
    "# Most time taking bodyparts for basketball\n",
    "df_agg_sports.iloc[df_agg_sports.index.get_level_values('sport') == 'basketball'].head()"
   ]
  },
  {
   "cell_type": "code",
   "execution_count": 35,
   "metadata": {},
   "outputs": [
    {
     "data": {
      "text/html": [
       "<div>\n",
       "<style scoped>\n",
       "    .dataframe tbody tr th:only-of-type {\n",
       "        vertical-align: middle;\n",
       "    }\n",
       "\n",
       "    .dataframe tbody tr th {\n",
       "        vertical-align: top;\n",
       "    }\n",
       "\n",
       "    .dataframe thead th {\n",
       "        text-align: right;\n",
       "    }\n",
       "</style>\n",
       "<table border=\"1\" class=\"dataframe\">\n",
       "  <thead>\n",
       "    <tr style=\"text-align: right;\">\n",
       "      <th></th>\n",
       "      <th></th>\n",
       "      <th>BMI</th>\n",
       "      <th>age</th>\n",
       "      <th>days_replaced</th>\n",
       "      <th>height</th>\n",
       "      <th>weight</th>\n",
       "    </tr>\n",
       "    <tr>\n",
       "      <th>sport</th>\n",
       "      <th>bodyparts</th>\n",
       "      <th></th>\n",
       "      <th></th>\n",
       "      <th></th>\n",
       "      <th></th>\n",
       "      <th></th>\n",
       "    </tr>\n",
       "  </thead>\n",
       "  <tbody>\n",
       "    <tr>\n",
       "      <th rowspan=\"5\" valign=\"top\">football</th>\n",
       "      <th>arm</th>\n",
       "      <td>17.0</td>\n",
       "      <td>24.0</td>\n",
       "      <td>521.0</td>\n",
       "      <td>218.0</td>\n",
       "      <td>78.0</td>\n",
       "    </tr>\n",
       "    <tr>\n",
       "      <th>achilles</th>\n",
       "      <td>13.0</td>\n",
       "      <td>27.0</td>\n",
       "      <td>416.0</td>\n",
       "      <td>244.0</td>\n",
       "      <td>77.0</td>\n",
       "    </tr>\n",
       "    <tr>\n",
       "      <th>cervical</th>\n",
       "      <td>13.0</td>\n",
       "      <td>26.0</td>\n",
       "      <td>369.0</td>\n",
       "      <td>240.0</td>\n",
       "      <td>76.0</td>\n",
       "    </tr>\n",
       "    <tr>\n",
       "      <th>foot</th>\n",
       "      <td>15.0</td>\n",
       "      <td>23.0</td>\n",
       "      <td>355.0</td>\n",
       "      <td>223.0</td>\n",
       "      <td>74.0</td>\n",
       "    </tr>\n",
       "    <tr>\n",
       "      <th>rotator cuff</th>\n",
       "      <td>15.0</td>\n",
       "      <td>29.0</td>\n",
       "      <td>349.0</td>\n",
       "      <td>225.0</td>\n",
       "      <td>75.0</td>\n",
       "    </tr>\n",
       "  </tbody>\n",
       "</table>\n",
       "</div>"
      ],
      "text/plain": [
       "                        BMI   age  days_replaced  height  weight\n",
       "sport    bodyparts                                              \n",
       "football arm           17.0  24.0          521.0   218.0    78.0\n",
       "         achilles      13.0  27.0          416.0   244.0    77.0\n",
       "         cervical      13.0  26.0          369.0   240.0    76.0\n",
       "         foot          15.0  23.0          355.0   223.0    74.0\n",
       "         rotator cuff  15.0  29.0          349.0   225.0    75.0"
      ]
     },
     "execution_count": 35,
     "metadata": {},
     "output_type": "execute_result"
    }
   ],
   "source": [
    "# Most time taking bodyparts for football\n",
    "df_agg_sports.iloc[df_agg_sports.index.get_level_values('sport') == 'football'].head()"
   ]
  },
  {
   "cell_type": "code",
   "execution_count": 36,
   "metadata": {
    "collapsed": true
   },
   "outputs": [],
   "source": [
    "# Avg. days taken to return to the sport for each injury type"
   ]
  },
  {
   "cell_type": "code",
   "execution_count": 37,
   "metadata": {
    "collapsed": true
   },
   "outputs": [],
   "source": [
    "df_agg_injury_type = df.groupby( 'injury_type').agg(np.mean).round().sort_values(\"days_replaced\", ascending=False).reset_index().head()"
   ]
  },
  {
   "cell_type": "code",
   "execution_count": 38,
   "metadata": {},
   "outputs": [
    {
     "data": {
      "image/png": "[encoded data removed]",
      "text/plain": [
       "<Figure size 720x720 with 1 Axes>"
      ]
     },
     "metadata": {},
     "output_type": "display_data"
    }
   ],
   "source": [
    "#sns.set(style=\"whitegrid\")\n",
    "plt.figure(figsize=(10,10))\n",
    "ax = sns.barplot(y=\"bodyparts\", x=\"days_replaced\", data=df_agg_bodyparts)\n",
    "plt.xlabel('Body Parts', fontsize=15)\n",
    "plt.ylabel('Days taken to return to sport', fontsize=15)\n",
    "plt.title('Fig. :Avg. days taken to return to the sport for each bodypart injured', fontsize=20)\n",
    "plt.show()\n"
   ]
  },
  {
   "cell_type": "markdown",
   "metadata": {},
   "source": [
    "# Data Encoding using one-hot coding"
   ]
  },
  {
   "cell_type": "markdown",
   "metadata": {},
   "source": [
    "Since some algorithms accepts only numeric values from the feature, thus one hot coding will create numerical values for all the categorical columns and since our target variable is a float datatype, we can do one hot coding before spliting into feature and target, as get_dummies will only code categorical variables."
   ]
  },
  {
   "cell_type": "code",
   "execution_count": 39,
   "metadata": {
    "collapsed": true
   },
   "outputs": [],
   "source": [
    "df = pd.get_dummies(df)"
   ]
  },
  {
   "cell_type": "code",
   "execution_count": 40,
   "metadata": {
    "collapsed": true
   },
   "outputs": [],
   "source": [
    "# Check the dataframe and columns"
   ]
  },
  {
   "cell_type": "code",
   "execution_count": 41,
   "metadata": {},
   "outputs": [
    {
     "name": "stdout",
     "output_type": "stream",
     "text": [
      "   weight  height   age        BMI  days_replaced  sport_baseball  \\\n",
      "0    81.0   220.0  23.0  16.735537           10.0               0   \n",
      "1    82.0   227.0  22.0  15.913369           36.0               0   \n",
      "2    73.0   180.0  24.0  16.680219           11.0               0   \n",
      "3    73.0   180.0  23.0  16.680219           14.0               0   \n",
      "4    73.0   180.0  24.0  16.680219           10.0               0   \n",
      "\n",
      "   sport_basketball  sport_football  sport_hockey  injury_month_1  ...  \\\n",
      "0                 1               0             0               0  ...   \n",
      "1                 1               0             0               0  ...   \n",
      "2                 1               0             0               1  ...   \n",
      "3                 1               0             0               0  ...   \n",
      "4                 1               0             0               0  ...   \n",
      "\n",
      "   injury_type_rupture  injury_type_sore  injury_type_spasm  \\\n",
      "0                    0                 0                  0   \n",
      "1                    0                 0                  0   \n",
      "2                    0                 0                  0   \n",
      "3                    0                 0                  0   \n",
      "4                    0                 0                  0   \n",
      "\n",
      "   injury_type_sprain  injury_type_stiff  injury_type_strain  \\\n",
      "0                   0                  0                   0   \n",
      "1                   0                  0                   1   \n",
      "2                   0                  0                   0   \n",
      "3                   0                  0                   0   \n",
      "4                   0                  0                   0   \n",
      "\n",
      "   injury_type_surgery  injury_type_tendinitis  injury_type_torn  \\\n",
      "0                    0                       0                 1   \n",
      "1                    0                       0                 0   \n",
      "2                    0                       0                 0   \n",
      "3                    0                       1                 0   \n",
      "4                    0                       0                 0   \n",
      "\n",
      "   injury_type_virus  \n",
      "0                  0  \n",
      "1                  0  \n",
      "2                  0  \n",
      "3                  0  \n",
      "4                  0  \n",
      "\n",
      "[5 rows x 100 columns]\n"
     ]
    }
   ],
   "source": [
    "print(df.head())"
   ]
  },
  {
   "cell_type": "code",
   "execution_count": 42,
   "metadata": {},
   "outputs": [
    {
     "name": "stdout",
     "output_type": "stream",
     "text": [
      "Index(['weight', 'height', 'age', 'BMI', 'days_replaced', 'sport_baseball',\n",
      "       'sport_basketball', 'sport_football', 'sport_hockey', 'injury_month_1',\n",
      "       'injury_month_2', 'injury_month_3', 'injury_month_4', 'injury_month_5',\n",
      "       'injury_month_6', 'injury_month_7', 'injury_month_8', 'injury_month_9',\n",
      "       'injury_month_10', 'injury_month_11', 'injury_month_12',\n",
      "       'bodyparts_achilles', 'bodyparts_ankle', 'bodyparts_appendix',\n",
      "       'bodyparts_arm', 'bodyparts_back', 'bodyparts_bicep', 'bodyparts_calf',\n",
      "       'bodyparts_cervical', 'bodyparts_cheekbone', 'bodyparts_chest',\n",
      "       'bodyparts_collarbone', 'bodyparts_elbow', 'bodyparts_eye',\n",
      "       'bodyparts_facial', 'bodyparts_fibula', 'bodyparts_finger',\n",
      "       'bodyparts_foot', 'bodyparts_groin', 'bodyparts_hamstring',\n",
      "       'bodyparts_hand', 'bodyparts_head', 'bodyparts_heart', 'bodyparts_heel',\n",
      "       'bodyparts_hip', 'bodyparts_jaw', 'bodyparts_kidney', 'bodyparts_knee',\n",
      "       'bodyparts_leg', 'bodyparts_lung', 'bodyparts_meniscus',\n",
      "       'bodyparts_mouth', 'bodyparts_neck', 'bodyparts_nose',\n",
      "       'bodyparts_oblique', 'bodyparts_patella', 'bodyparts_pectoral',\n",
      "       'bodyparts_pelvis', 'bodyparts_quadricep', 'bodyparts_rib',\n",
      "       'bodyparts_rotator cuff', 'bodyparts_shin', 'bodyparts_shoulder',\n",
      "       'bodyparts_sinus', 'bodyparts_spine', 'bodyparts_stomach',\n",
      "       'bodyparts_tailbone', 'bodyparts_thigh', 'bodyparts_throat',\n",
      "       'bodyparts_thumb', 'bodyparts_tibia', 'bodyparts_toe',\n",
      "       'bodyparts_tooth', 'bodyparts_triceps', 'bodyparts_wrist',\n",
      "       'injury_type_ailment', 'injury_type_appendectomy', 'injury_type_broken',\n",
      "       'injury_type_bruise', 'injury_type_bursitis', 'injury_type_concussion',\n",
      "       'injury_type_cramp', 'injury_type_dizziness', 'injury_type_flu',\n",
      "       'injury_type_fractured', 'injury_type_illness', 'injury_type_infection',\n",
      "       'injury_type_inflammation', 'injury_type_lacerate',\n",
      "       'injury_type_pulled', 'injury_type_rupture', 'injury_type_sore',\n",
      "       'injury_type_spasm', 'injury_type_sprain', 'injury_type_stiff',\n",
      "       'injury_type_strain', 'injury_type_surgery', 'injury_type_tendinitis',\n",
      "       'injury_type_torn', 'injury_type_virus'],\n",
      "      dtype='object')\n"
     ]
    }
   ],
   "source": [
    "print(df.columns)"
   ]
  },
  {
   "cell_type": "markdown",
   "metadata": {},
   "source": [
    "# Split data into features and target"
   ]
  },
  {
   "cell_type": "markdown",
   "metadata": {},
   "source": [
    "Now, the dataframe is ready to be splitted into feature and target. For this study days take to return to the sport is our target variable which is days_replaced, rest other variables are our features dataframe. Since, the target variable is poisson variable, we will perform the log tranformation and assign it as target."
   ]
  },
  {
   "cell_type": "code",
   "execution_count": 43,
   "metadata": {
    "collapsed": true
   },
   "outputs": [],
   "source": [
    "features = df.drop(columns = 'days_replaced')\n",
    "target = np.log10(df['days_replaced'])"
   ]
  },
  {
   "cell_type": "markdown",
   "metadata": {},
   "source": [
    "With some exploration, -inf values have been identified in the series, below code will remove all -inf values and zero's and replace with mean."
   ]
  },
  {
   "cell_type": "code",
   "execution_count": 44,
   "metadata": {
    "collapsed": true
   },
   "outputs": [],
   "source": [
    "target[target==-np.inf]=np.nan\n",
    "target.fillna(target.mean(), inplace=True)\n",
    "target.replace(0.0, target.mean(), inplace = True)"
   ]
  },
  {
   "cell_type": "markdown",
   "metadata": {},
   "source": [
    "# Normalization using standard scaler"
   ]
  },
  {
   "cell_type": "code",
   "execution_count": 45,
   "metadata": {
    "collapsed": true
   },
   "outputs": [],
   "source": [
    "# scaling the features using standard scaler\n",
    "scaler = preprocessing.StandardScaler()\n",
    "features_scaled = scaler.fit_transform(features)"
   ]
  },
  {
   "cell_type": "markdown",
   "metadata": {},
   "source": [
    "Now, we will perform feature selection and find out most relevant feature for the target variable. For this task we will use f score and random forest importance metric for feature selection."
   ]
  },
  {
   "cell_type": "markdown",
   "metadata": {},
   "source": [
    "# Feature Selection using fscore"
   ]
  },
  {
   "cell_type": "code",
   "execution_count": 46,
   "metadata": {},
   "outputs": [
    {
     "data": {
      "text/plain": [
       "array([ 6, 95, 97,  5, 92, 83, 46, 77, 76, 11], dtype=int64)"
      ]
     },
     "execution_count": 46,
     "metadata": {},
     "output_type": "execute_result"
    }
   ],
   "source": [
    "from sklearn import feature_selection as fs\n",
    "fs_fit_fscore = fs.SelectKBest(fs.f_regression, k=10)\n",
    "fs_fit_fscore.fit_transform(features_scaled, target)\n",
    "fs_indices_fscore = np.argsort(fs_fit_fscore.scores_)[::-1][0:10]\n",
    "fs_indices_fscore"
   ]
  },
  {
   "cell_type": "code",
   "execution_count": 47,
   "metadata": {},
   "outputs": [
    {
     "data": {
      "text/plain": [
       "array([2280.87441184, 1980.31539955, 1613.7635175 ,  980.70018674,\n",
       "        585.02468149,  498.52907148,  416.48260073,  409.16302171,\n",
       "        378.48410455,  368.39690575])"
      ]
     },
     "execution_count": 47,
     "metadata": {},
     "output_type": "execute_result"
    }
   ],
   "source": [
    "feature_importances_fscore = fs_fit_fscore.scores_[fs_indices_fscore]\n",
    "feature_importances_fscore"
   ]
  },
  {
   "cell_type": "code",
   "execution_count": 48,
   "metadata": {},
   "outputs": [
    {
     "data": {
      "text/plain": [
       "array(['sport_football', 'injury_type_surgery', 'injury_type_torn',\n",
       "       'sport_basketball', 'injury_type_sprain', 'injury_type_fractured',\n",
       "       'bodyparts_knee', 'injury_type_bruise', 'injury_type_broken',\n",
       "       'injury_month_4'], dtype=object)"
      ]
     },
     "execution_count": 48,
     "metadata": {},
     "output_type": "execute_result"
    }
   ],
   "source": [
    "best_features__ = features.columns[fs_indices_fscore].values\n",
    "best_features__"
   ]
  },
  {
   "cell_type": "code",
   "execution_count": 49,
   "metadata": {},
   "outputs": [
    {
     "data": {
      "image/png": "[encoded data removed]",
      "text/plain": [
       "<Figure size 1800x720 with 1 Axes>"
      ]
     },
     "metadata": {},
     "output_type": "display_data"
    }
   ],
   "source": [
    "# plot top 10 features\n",
    "plt.rc('figure', figsize=(25.0, 10.0))\n",
    "plt.bar(range(len(fs_fit_fscore.scores_[fs_indices_fscore])), \n",
    "        fs_fit_fscore.scores_[fs_indices_fscore])\n",
    "plt.xticks(np.arange(10), (best_features__))\n",
    "plt.tick_params(labelsize=11)\n",
    "plt.ylabel('F Score')\n",
    "plt.xlabel('Best Feature')\n",
    "plt.show()"
   ]
  },
  {
   "cell_type": "markdown",
   "metadata": {},
   "source": [
    "# Feature selection using Random Forest Importance method"
   ]
  },
  {
   "cell_type": "markdown",
   "metadata": {},
   "source": [
    "Thus, we can see that most relevant feature f score suggests are above features in order of high to low. "
   ]
  },
  {
   "cell_type": "code",
   "execution_count": 50,
   "metadata": {
    "collapsed": true
   },
   "outputs": [],
   "source": [
    "# Building model to return 10 best features\n",
    "from sklearn.ensemble import RandomForestRegressor\n",
    "num_features = 10\n",
    "model_rfi = RandomForestRegressor(n_estimators=10)\n",
    "model_rfi.fit(features_scaled, target)\n",
    "fs_indices_rfi = np.argsort(model_rfi.feature_importances_)[::-1][0:num_features]"
   ]
  },
  {
   "cell_type": "code",
   "execution_count": 51,
   "metadata": {},
   "outputs": [
    {
     "data": {
      "text/plain": [
       "array([0.14155383, 0.12477944, 0.0869336 , 0.0855575 , 0.0841258 ,\n",
       "       0.0710725 , 0.03534106, 0.02872176, 0.02275938, 0.01952418])"
      ]
     },
     "execution_count": 51,
     "metadata": {},
     "output_type": "execute_result"
    }
   ],
   "source": [
    "# Importance score\n",
    "feature_importances_rfi = model_rfi.feature_importances_[fs_indices_rfi]\n",
    "feature_importances_rfi"
   ]
  },
  {
   "cell_type": "code",
   "execution_count": 52,
   "metadata": {},
   "outputs": [
    {
     "data": {
      "text/plain": [
       "array(['BMI', 'age', 'height', 'sport_football', 'weight',\n",
       "       'injury_type_surgery', 'injury_type_torn', 'injury_month_4',\n",
       "       'injury_type_fractured', 'injury_type_broken'], dtype=object)"
      ]
     },
     "execution_count": 52,
     "metadata": {},
     "output_type": "execute_result"
    }
   ],
   "source": [
    "# Feature names\n",
    "best_features_rfi = features.columns[fs_indices_rfi].values\n",
    "best_features_rfi"
   ]
  },
  {
   "cell_type": "code",
   "execution_count": 53,
   "metadata": {},
   "outputs": [
    {
     "data": {
      "image/png": "[encoded data removed]",
      "text/plain": [
       "<Figure size 1440x720 with 1 Axes>"
      ]
     },
     "metadata": {},
     "output_type": "display_data"
    }
   ],
   "source": [
    "# plot top 10 features \n",
    "plt.rc('figure', figsize=(20.0, 10.0))\n",
    "plt.bar(range(len(model_rfi.feature_importances_[fs_indices_rfi])), \n",
    "        model_rfi.feature_importances_[fs_indices_rfi])\n",
    "plt.xticks(np.arange(10), (best_features_rfi))\n",
    "plt.tick_params(labelsize=11)\n",
    "plt.ylabel('Feature Importance')\n",
    "plt.xlabel('Best Features')\n",
    "\n",
    "plt.show()"
   ]
  },
  {
   "cell_type": "markdown",
   "metadata": {},
   "source": [
    "Thus, we can see that most relevant feature RFI suggests are *'BMI', 'age', 'height', 'sport_football', 'weight', 'injury_type_surgery', 'injury_type_torn', 'injury_month_4','injury_type_fractured', 'injury_type_broken'* opposed to *'sport_football', 'injury_type_surgery', 'injury_type_torn','sport_basketball', 'injury_type_sprain', 'injury_type_fractured','bodyparts_knee', 'injury_type_bruise', 'injury_type_broken','injury_month_4'*suggested by fscore. Interestingly, RFI chooses BMI as most relevant where as with f score it was sport_football."
   ]
  },
  {
   "cell_type": "markdown",
   "metadata": {},
   "source": [
    "# Feature selection using the Built-in XGBoost Feature Importance Method"
   ]
  },
  {
   "cell_type": "code",
   "execution_count": 54,
   "metadata": {},
   "outputs": [
    {
     "ename": "ModuleNotFoundError",
     "evalue": "No module named 'xgboost'",
     "output_type": "error",
     "traceback": [
      "\u001b[1;31m---------------------------------------------------------------------------\u001b[0m",
      "\u001b[1;31mModuleNotFoundError\u001b[0m                       Traceback (most recent call last)",
      "\u001b[1;32m<ipython-input-54-b84c1fad0f4b>\u001b[0m in \u001b[0;36m<module>\u001b[1;34m\u001b[0m\n\u001b[0;32m      1\u001b[0m \u001b[1;31m# plot feature importance using built-in function\u001b[0m\u001b[1;33m\u001b[0m\u001b[1;33m\u001b[0m\u001b[1;33m\u001b[0m\u001b[0m\n\u001b[1;32m----> 2\u001b[1;33m \u001b[1;32mfrom\u001b[0m \u001b[0mxgboost\u001b[0m \u001b[1;32mimport\u001b[0m \u001b[0mXGBRegressor\u001b[0m\u001b[1;33m\u001b[0m\u001b[1;33m\u001b[0m\u001b[0m\n\u001b[0m\u001b[0;32m      3\u001b[0m \u001b[0mmodel_xgb\u001b[0m \u001b[1;33m=\u001b[0m \u001b[0mXGBRegressor\u001b[0m\u001b[1;33m(\u001b[0m\u001b[1;33m)\u001b[0m\u001b[1;33m\u001b[0m\u001b[1;33m\u001b[0m\u001b[0m\n\u001b[0;32m      4\u001b[0m \u001b[0mmodel_xgb\u001b[0m\u001b[1;33m.\u001b[0m\u001b[0mfit\u001b[0m\u001b[1;33m(\u001b[0m\u001b[0mfeatures_scaled\u001b[0m\u001b[1;33m,\u001b[0m \u001b[0mtarget\u001b[0m\u001b[1;33m)\u001b[0m\u001b[1;33m\u001b[0m\u001b[1;33m\u001b[0m\u001b[0m\n\u001b[0;32m      5\u001b[0m \u001b[1;33m\u001b[0m\u001b[0m\n",
      "\u001b[1;31mModuleNotFoundError\u001b[0m: No module named 'xgboost'"
     ]
    }
   ],
   "source": [
    "# plot feature importance using built-in function\n",
    "from xgboost import XGBRegressor\n",
    "model_xgb = XGBRegressor()\n",
    "model_xgb.fit(features_scaled, target)\n",
    "\n",
    "# feature importance\n",
    "fs_indices_xgb = np.argsort(model_xgb.feature_importances_)[::-1][0:num_features]\n",
    "feature_importances_xgb = model_xgb.feature_importances_[fs_indices_xgb]\n",
    "print(feature_importances_xgb)\n"
   ]
  },
  {
   "cell_type": "code",
   "execution_count": null,
   "metadata": {
    "collapsed": true
   },
   "outputs": [],
   "source": [
    "best_features_xgb = features.columns[fs_indices_xgb].values\n",
    "best_features_xgb"
   ]
  },
  {
   "cell_type": "code",
   "execution_count": 59,
   "metadata": {},
   "outputs": [
    {
     "ename": "NameError",
     "evalue": "name 'model_xgb' is not defined",
     "output_type": "error",
     "traceback": [
      "\u001b[1;31m---------------------------------------------------------------------------\u001b[0m",
      "\u001b[1;31mNameError\u001b[0m                                 Traceback (most recent call last)",
      "\u001b[1;32m<ipython-input-59-356a373a11f6>\u001b[0m in \u001b[0;36m<module>\u001b[1;34m\u001b[0m\n\u001b[0;32m      1\u001b[0m \u001b[1;31m# plot top 10 features\u001b[0m\u001b[1;33m\u001b[0m\u001b[1;33m\u001b[0m\u001b[1;33m\u001b[0m\u001b[0m\n\u001b[0;32m      2\u001b[0m \u001b[0mplt\u001b[0m\u001b[1;33m.\u001b[0m\u001b[0mrc\u001b[0m\u001b[1;33m(\u001b[0m\u001b[1;34m'figure'\u001b[0m\u001b[1;33m,\u001b[0m \u001b[0mfigsize\u001b[0m\u001b[1;33m=\u001b[0m\u001b[1;33m(\u001b[0m\u001b[1;36m20.0\u001b[0m\u001b[1;33m,\u001b[0m \u001b[1;36m10.0\u001b[0m\u001b[1;33m)\u001b[0m\u001b[1;33m)\u001b[0m\u001b[1;33m\u001b[0m\u001b[1;33m\u001b[0m\u001b[0m\n\u001b[1;32m----> 3\u001b[1;33m plt.bar(range(len(model_xgb.feature_importances_[fs_indices_xgb])), \n\u001b[0m\u001b[0;32m      4\u001b[0m         model_xgb.feature_importances_[fs_indices_xgb])\n\u001b[0;32m      5\u001b[0m \u001b[0mplt\u001b[0m\u001b[1;33m.\u001b[0m\u001b[0mxticks\u001b[0m\u001b[1;33m(\u001b[0m\u001b[0mnp\u001b[0m\u001b[1;33m.\u001b[0m\u001b[0marange\u001b[0m\u001b[1;33m(\u001b[0m\u001b[1;36m10\u001b[0m\u001b[1;33m)\u001b[0m\u001b[1;33m,\u001b[0m \u001b[1;33m(\u001b[0m\u001b[0mbest_features_xgb\u001b[0m\u001b[1;33m)\u001b[0m\u001b[1;33m)\u001b[0m\u001b[1;33m\u001b[0m\u001b[1;33m\u001b[0m\u001b[0m\n",
      "\u001b[1;31mNameError\u001b[0m: name 'model_xgb' is not defined"
     ]
    }
   ],
   "source": [
    "# plot top 10 features\n",
    "plt.rc('figure', figsize=(20.0, 10.0))\n",
    "plt.bar(range(len(model_xgb.feature_importances_[fs_indices_xgb])), \n",
    "        model_xgb.feature_importances_[fs_indices_xgb])\n",
    "plt.xticks(np.arange(10), (best_features_xgb))\n",
    "plt.tick_params(labelsize=10)\n",
    "plt.ylabel('Feature Importance')\n",
    "plt.xlabel('Best Features')\n",
    "plt.show()\n",
    "\n"
   ]
  },
  {
   "cell_type": "markdown",
   "metadata": {},
   "source": [
    "Feature importance showed by XGB, shows same features as f score feature importance, which is Spoert_football as best feature."
   ]
  },
  {
   "cell_type": "markdown",
   "metadata": {},
   "source": [
    "# Data Sampling"
   ]
  },
  {
   "cell_type": "markdown",
   "metadata": {},
   "source": [
    "Generally for larger dataset, computational time is very high, specially when performing hyperparameter tuning, thus we will take a sample of 10000 observation to perform grid search."
   ]
  },
  {
   "cell_type": "code",
   "execution_count": 60,
   "metadata": {},
   "outputs": [
    {
     "name": "stdout",
     "output_type": "stream",
     "text": [
      "total_data_shape : (25345, 100)\n",
      "sample Taken: 15000\n",
      "Feature's Shape:  (15000, 99)\n",
      "target's Shape:  (15000, 1)\n"
     ]
    }
   ],
   "source": [
    "# sample size\n",
    "print('total_data_shape :', df.shape)\n",
    "n_samples = 15000\n",
    "print('sample Taken:',n_samples)\n",
    "features_scaled_sample = pd.DataFrame(features_scaled).sample(n=n_samples, random_state=1).values\n",
    "target_sample = pd.DataFrame(target).sample(n=n_samples, random_state=1).values\n",
    "\n",
    "print(\"Feature's Shape: \" ,features_scaled_sample.shape)\n",
    "print (\"target's Shape: \", target_sample.shape)\n"
   ]
  },
  {
   "cell_type": "markdown",
   "metadata": {},
   "source": [
    "# Train test split"
   ]
  },
  {
   "cell_type": "code",
   "execution_count": 61,
   "metadata": {
    "collapsed": true
   },
   "outputs": [],
   "source": [
    "#spliting the training and testing data, keeping 20% for testing and rest for training. \n",
    "from sklearn.model_selection import train_test_split\n",
    "features_scaled_sample_train, features_scaled_sample_test, target_sample_train, target_sample_test = train_test_split(features_scaled_sample, target_sample, test_size = 0.20, random_state = 42) "
   ]
  },
  {
   "cell_type": "markdown",
   "metadata": {},
   "source": [
    "# Hyperparameter tuning using Grid Search and using pipeline "
   ]
  },
  {
   "cell_type": "markdown",
   "metadata": {},
   "source": [
    "Custom class for random forest importance, courtesy to Vural for providing the code in sample report."
   ]
  },
  {
   "cell_type": "code",
   "execution_count": 62,
   "metadata": {
    "collapsed": true
   },
   "outputs": [],
   "source": [
    "from sklearn.base import BaseEstimator, TransformerMixin\n",
    "\n",
    "# custom function for RFI feature selection inside a pipeline\n",
    "# here we use n_estimators=100\n",
    "class RFIFeatureSelector(BaseEstimator, TransformerMixin):\n",
    "    \n",
    "    # class constructor \n",
    "    # make sure class attributes end with a \"_\"\n",
    "    # per scikit-learn convention to avoid errors\n",
    "    def __init__(self, n_features_=10):\n",
    "        self.n_features_ = n_features_\n",
    "        self.fs_indices_ = None\n",
    "\n",
    "    # override the fit function\n",
    "    def fit(self, X, y):\n",
    "        from sklearn.ensemble import RandomForestRegressor\n",
    "        from numpy import argsort\n",
    "        model_rfi = RandomForestRegressor(n_estimators=100)\n",
    "        model_rfi.fit(X, y)\n",
    "        self.fs_indices_ = argsort(model_rfi.feature_importances_)[::-1][0:self.n_features_] \n",
    "        return self \n",
    "    \n",
    "    # override the transform function\n",
    "    def transform(self, X, y=None):\n",
    "        return X[:, self.fs_indices_]"
   ]
  },
  {
   "cell_type": "markdown",
   "metadata": {},
   "source": [
    "# Grid search for finding best parameters for Decision Tree Regressor"
   ]
  },
  {
   "cell_type": "code",
   "execution_count": null,
   "metadata": {
    "collapsed": true
   },
   "outputs": [],
   "source": [
    "# Before starting grid search, we will create a list to store all the cross validated RMSE, which we will plot for model comparision and \n",
    "# after every resion we will append the result into that list\n",
    "RMSE_Results = []"
   ]
  },
  {
   "cell_type": "markdown",
   "metadata": {},
   "source": [
    "Now we will do hyperparameter tuning for Decision Tree Regressor, where we will pass feature selection using Random forest importance with features 5, 6 and all 99 features, followed by max depth from 1 to 10 and min sample split of 2 and 5. For scoring, we will use mean squared error."
   ]
  },
  {
   "cell_type": "code",
   "execution_count": 55,
   "metadata": {},
   "outputs": [
    {
     "ename": "NameError",
     "evalue": "name 'RFIFeatureSelector' is not defined",
     "output_type": "error",
     "traceback": [
      "\u001b[1;31m---------------------------------------------------------------------------\u001b[0m",
      "\u001b[1;31mNameError\u001b[0m                                 Traceback (most recent call last)",
      "\u001b[1;32m<ipython-input-55-197f0131e3d6>\u001b[0m in \u001b[0;36m<module>\u001b[1;34m\u001b[0m\n\u001b[0;32m      1\u001b[0m \u001b[1;31m# Now we will do hyperparameter tuning for decision tree, where we will pass feature selection using Random forest importance with features 5, 6 and all 9 features, followed by max depth of 3,4,5 and min sample split of 2 and 5.from sklearn.tree import DecisionTreeRegressor\u001b[0m\u001b[1;33m\u001b[0m\u001b[1;33m\u001b[0m\u001b[1;33m\u001b[0m\u001b[0m\n\u001b[0;32m      2\u001b[0m \u001b[1;33m\u001b[0m\u001b[0m\n\u001b[1;32m----> 3\u001b[1;33m pipe_DT = Pipeline([('rfi_fs', RFIFeatureSelector()),\n\u001b[0m\u001b[0;32m      4\u001b[0m                     ('dt', DecisionTreeRegressor())])\n\u001b[0;32m      5\u001b[0m \u001b[1;33m\u001b[0m\u001b[0m\n",
      "\u001b[1;31mNameError\u001b[0m: name 'RFIFeatureSelector' is not defined"
     ]
    }
   ],
   "source": [
    "# Now we will do hyperparameter tuning for decision tree, where we will pass feature selection using Random forest importance with features 5, 6 and all 9 features, followed by max depth of 3,4,5 and min sample split of 2 and 5.from sklearn.tree import DecisionTreeRegressor\n",
    "\n",
    "pipe_DT = Pipeline([('rfi_fs', RFIFeatureSelector()),\n",
    "                    ('dt', DecisionTreeRegressor())])\n",
    "\n",
    "depths = np.arange(1, 10)\n",
    "\n",
    "params_pipe_DT = {'rfi_fs__n_features_': [5, 6, features_scaled_sample.shape[1]],\n",
    "                  'dt__max_depth': depths,\n",
    "                  'dt__min_samples_split': [2, 5]}\n",
    "\n",
    "gs_pipe_DT = GridSearchCV(estimator=pipe_DT, \n",
    "                          param_grid=params_pipe_DT, \n",
    "                          cv=5,\n",
    "                          refit=True,\n",
    "                          n_jobs=-1,\n",
    "                          scoring='neg_mean_squared_error',\n",
    "                          verbose=1) \n",
    "\n",
    "gs_pipe_DT.fit(features_scaled_sample_train, target_sample_train);"
   ]
  },
  {
   "cell_type": "code",
   "execution_count": 56,
   "metadata": {},
   "outputs": [
    {
     "ename": "NameError",
     "evalue": "name 'gs_pipe_DT' is not defined",
     "output_type": "error",
     "traceback": [
      "\u001b[1;31m---------------------------------------------------------------------------\u001b[0m",
      "\u001b[1;31mNameError\u001b[0m                                 Traceback (most recent call last)",
      "\u001b[1;32m<ipython-input-56-2db8d352dd94>\u001b[0m in \u001b[0;36m<module>\u001b[1;34m\u001b[0m\n\u001b[0;32m      1\u001b[0m \u001b[1;31m# Grid search has returned following best paramenters and score\u001b[0m\u001b[1;33m\u001b[0m\u001b[1;33m\u001b[0m\u001b[1;33m\u001b[0m\u001b[0m\n\u001b[1;32m----> 2\u001b[1;33m \u001b[0mprint\u001b[0m\u001b[1;33m(\u001b[0m\u001b[0mgs_pipe_DT\u001b[0m\u001b[1;33m.\u001b[0m\u001b[0mbest_params_\u001b[0m\u001b[1;33m)\u001b[0m\u001b[1;33m\u001b[0m\u001b[1;33m\u001b[0m\u001b[0m\n\u001b[0m\u001b[0;32m      3\u001b[0m \u001b[0mprint\u001b[0m\u001b[1;33m(\u001b[0m\u001b[0mgs_pipe_DT\u001b[0m\u001b[1;33m.\u001b[0m\u001b[0mbest_score_\u001b[0m\u001b[1;33m)\u001b[0m\u001b[1;33m\u001b[0m\u001b[1;33m\u001b[0m\u001b[0m\n",
      "\u001b[1;31mNameError\u001b[0m: name 'gs_pipe_DT' is not defined"
     ]
    }
   ],
   "source": [
    "# Grid search has returned following best paramenters and score\n",
    "print(gs_pipe_DT.best_params_)\n",
    "print(gs_pipe_DT.best_score_)"
   ]
  },
  {
   "cell_type": "code",
   "execution_count": 57,
   "metadata": {},
   "outputs": [
    {
     "ename": "NameError",
     "evalue": "name 'gs_pipe_DT' is not defined",
     "output_type": "error",
     "traceback": [
      "\u001b[1;31m---------------------------------------------------------------------------\u001b[0m",
      "\u001b[1;31mNameError\u001b[0m                                 Traceback (most recent call last)",
      "\u001b[1;32m<ipython-input-57-5ec287a05e11>\u001b[0m in \u001b[0;36m<module>\u001b[1;34m\u001b[0m\n\u001b[0;32m      1\u001b[0m \u001b[1;31m# Ensuring RMSE, using cross validation\u001b[0m\u001b[1;33m\u001b[0m\u001b[1;33m\u001b[0m\u001b[1;33m\u001b[0m\u001b[0m\n\u001b[0;32m      2\u001b[0m \u001b[1;32mfrom\u001b[0m \u001b[0msklearn\u001b[0m\u001b[1;33m.\u001b[0m\u001b[0mmodel_selection\u001b[0m \u001b[1;32mimport\u001b[0m \u001b[0mcross_val_score\u001b[0m\u001b[1;33m\u001b[0m\u001b[1;33m\u001b[0m\u001b[0m\n\u001b[1;32m----> 3\u001b[1;33m \u001b[0mcv_results_DT\u001b[0m \u001b[1;33m=\u001b[0m \u001b[0mnp\u001b[0m\u001b[1;33m.\u001b[0m\u001b[0msqrt\u001b[0m\u001b[1;33m(\u001b[0m\u001b[1;33m-\u001b[0m\u001b[0mcross_val_score\u001b[0m\u001b[1;33m(\u001b[0m\u001b[0mgs_pipe_DT\u001b[0m\u001b[1;33m,\u001b[0m \u001b[0mfeatures_scaled_sample\u001b[0m\u001b[1;33m,\u001b[0m \u001b[0mtarget_sample\u001b[0m\u001b[1;33m,\u001b[0m \u001b[0mscoring\u001b[0m\u001b[1;33m=\u001b[0m\u001b[1;34m'neg_mean_squared_error'\u001b[0m\u001b[1;33m)\u001b[0m\u001b[1;33m)\u001b[0m\u001b[1;33m\u001b[0m\u001b[1;33m\u001b[0m\u001b[0m\n\u001b[0m\u001b[0;32m      4\u001b[0m \u001b[0mprint\u001b[0m\u001b[1;33m(\u001b[0m\u001b[1;34m\"RMSE: %0.2f (+/- %0.2f)\"\u001b[0m \u001b[1;33m%\u001b[0m \u001b[1;33m(\u001b[0m\u001b[0mcv_results_DT\u001b[0m\u001b[1;33m.\u001b[0m\u001b[0mmean\u001b[0m\u001b[1;33m(\u001b[0m\u001b[1;33m)\u001b[0m\u001b[1;33m,\u001b[0m \u001b[0mcv_results_DT\u001b[0m\u001b[1;33m.\u001b[0m\u001b[0mstd\u001b[0m\u001b[1;33m(\u001b[0m\u001b[1;33m)\u001b[0m \u001b[1;33m*\u001b[0m \u001b[1;36m2\u001b[0m\u001b[1;33m)\u001b[0m\u001b[1;33m)\u001b[0m\u001b[1;33m\u001b[0m\u001b[1;33m\u001b[0m\u001b[0m\n\u001b[0;32m      5\u001b[0m \u001b[0mRMSE_Results\u001b[0m\u001b[1;33m.\u001b[0m\u001b[0mappend\u001b[0m\u001b[1;33m(\u001b[0m\u001b[0mcv_results_DT\u001b[0m\u001b[1;33m.\u001b[0m\u001b[0mmean\u001b[0m\u001b[1;33m(\u001b[0m\u001b[1;33m)\u001b[0m\u001b[1;33m)\u001b[0m\u001b[1;33m\u001b[0m\u001b[1;33m\u001b[0m\u001b[0m\n",
      "\u001b[1;31mNameError\u001b[0m: name 'gs_pipe_DT' is not defined"
     ]
    }
   ],
   "source": [
    "# Ensuring RMSE, using cross validation\n",
    "from sklearn.model_selection import cross_val_score\n",
    "cv_results_DT = np.sqrt(-cross_val_score(gs_pipe_DT, features_scaled_sample, target_sample, scoring='neg_mean_squared_error'))\n",
    "print(\"RMSE: %0.2f (+/- %0.2f)\" % (cv_results_DT.mean(), cv_results_DT.std() * 2))\n",
    "RMSE_Results.append(cv_results_DT.mean())"
   ]
  },
  {
   "cell_type": "markdown",
   "metadata": {},
   "source": [
    "# Grid search for finding best parameters for Random Forest Regressor"
   ]
  },
  {
   "cell_type": "markdown",
   "metadata": {},
   "source": [
    "Now we will do hyperparameter tuning for random forest regressor, where we will pass feature selection using Random forest importance with features 5, 6 and all 99 features, followed by max depth 9 and 10 and min sample split of 2 and 5. For scoring, we will use mean squared error."
   ]
  },
  {
   "cell_type": "code",
   "execution_count": 63,
   "metadata": {},
   "outputs": [
    {
     "name": "stdout",
     "output_type": "stream",
     "text": [
      "Fitting 5 folds for each of 12 candidates, totalling 60 fits\n"
     ]
    },
    {
     "name": "stderr",
     "output_type": "stream",
     "text": [
      "[Parallel(n_jobs=-1)]: Using backend LokyBackend with 8 concurrent workers.\n",
      "[Parallel(n_jobs=-1)]: Done  34 tasks      | elapsed:  3.0min\n",
      "[Parallel(n_jobs=-1)]: Done  60 out of  60 | elapsed:  4.7min finished\n"
     ]
    }
   ],
   "source": [
    "from sklearn.ensemble import RandomForestRegressor\n",
    "from sklearn.pipeline import Pipeline\n",
    "from sklearn.model_selection import GridSearchCV\n",
    "\n",
    "\n",
    "rf_regressor = RandomForestRegressor(random_state=999)\n",
    "\n",
    "pipe_RF = Pipeline([('rfi_fs', RFIFeatureSelector()),\n",
    "                    ('rf', rf_regressor)])\n",
    "\n",
    "\n",
    "\n",
    "params_pipe_RF = {'rfi_fs__n_features_': [5, 6, features_scaled.shape[1]],                  \n",
    "                  'rf__max_depth': [9,10], \n",
    "                  'rf__min_samples_split': [2, 5]}\n",
    " \n",
    "    \n",
    "\n",
    "\n",
    "gs_pipe_RF  = GridSearchCV(estimator=pipe_RF, \n",
    "                           param_grid=params_pipe_RF, \n",
    "                           cv=5,\n",
    "                           n_jobs=-1,\n",
    "                           scoring= 'neg_mean_squared_error', \n",
    "                           verbose=1)\n",
    "\n",
    "gs_pipe_RF.fit(features_scaled_sample_train, target_sample_train);"
   ]
  },
  {
   "cell_type": "code",
   "execution_count": 64,
   "metadata": {},
   "outputs": [
    {
     "name": "stdout",
     "output_type": "stream",
     "text": [
      "Best Grid Score: -0.33275149162004475\n",
      "Best Parameters: {'rf__max_depth': 10, 'rf__min_samples_split': 5, 'rfi_fs__n_features_': 99}\n"
     ]
    }
   ],
   "source": [
    "# Grid search has returned following best paramenters and score\n",
    "print('Best Grid Score:', gs_pipe_RF.best_score_)\n",
    "print('Best Parameters:', gs_pipe_RF.best_params_)"
   ]
  },
  {
   "cell_type": "code",
   "execution_count": 65,
   "metadata": {},
   "outputs": [
    {
     "name": "stdout",
     "output_type": "stream",
     "text": [
      "Fitting 5 folds for each of 12 candidates, totalling 60 fits\n"
     ]
    },
    {
     "name": "stderr",
     "output_type": "stream",
     "text": [
      "[Parallel(n_jobs=-1)]: Using backend LokyBackend with 8 concurrent workers.\n",
      "[Parallel(n_jobs=-1)]: Done  34 tasks      | elapsed:  2.2min\n",
      "[Parallel(n_jobs=-1)]: Done  60 out of  60 | elapsed:  3.5min finished\n"
     ]
    },
    {
     "name": "stdout",
     "output_type": "stream",
     "text": [
      "Fitting 5 folds for each of 12 candidates, totalling 60 fits\n"
     ]
    },
    {
     "name": "stderr",
     "output_type": "stream",
     "text": [
      "[Parallel(n_jobs=-1)]: Using backend LokyBackend with 8 concurrent workers.\n",
      "[Parallel(n_jobs=-1)]: Done  34 tasks      | elapsed:  2.2min\n",
      "[Parallel(n_jobs=-1)]: Done  60 out of  60 | elapsed:  3.5min finished\n"
     ]
    },
    {
     "name": "stdout",
     "output_type": "stream",
     "text": [
      "Fitting 5 folds for each of 12 candidates, totalling 60 fits\n"
     ]
    },
    {
     "name": "stderr",
     "output_type": "stream",
     "text": [
      "[Parallel(n_jobs=-1)]: Using backend LokyBackend with 8 concurrent workers.\n",
      "[Parallel(n_jobs=-1)]: Done  34 tasks      | elapsed:  2.2min\n",
      "[Parallel(n_jobs=-1)]: Done  60 out of  60 | elapsed:  3.5min finished\n"
     ]
    },
    {
     "name": "stdout",
     "output_type": "stream",
     "text": [
      "RMSE: 0.58 (+/- 0.01)\n"
     ]
    },
    {
     "ename": "NameError",
     "evalue": "name 'RMSE_Results' is not defined",
     "output_type": "error",
     "traceback": [
      "\u001b[1;31m---------------------------------------------------------------------------\u001b[0m",
      "\u001b[1;31mNameError\u001b[0m                                 Traceback (most recent call last)",
      "\u001b[1;32m<ipython-input-65-79a66c13bf96>\u001b[0m in \u001b[0;36m<module>\u001b[1;34m\u001b[0m\n\u001b[0;32m      2\u001b[0m \u001b[0mcv_results_RF\u001b[0m \u001b[1;33m=\u001b[0m \u001b[0mnp\u001b[0m\u001b[1;33m.\u001b[0m\u001b[0msqrt\u001b[0m\u001b[1;33m(\u001b[0m\u001b[1;33m-\u001b[0m\u001b[0mcross_val_score\u001b[0m\u001b[1;33m(\u001b[0m\u001b[0mgs_pipe_RF\u001b[0m\u001b[1;33m,\u001b[0m \u001b[0mfeatures_scaled_sample\u001b[0m\u001b[1;33m,\u001b[0m \u001b[0mtarget_sample\u001b[0m\u001b[1;33m,\u001b[0m \u001b[0mscoring\u001b[0m\u001b[1;33m=\u001b[0m\u001b[1;34m'neg_mean_squared_error'\u001b[0m\u001b[1;33m)\u001b[0m\u001b[1;33m)\u001b[0m\u001b[1;33m\u001b[0m\u001b[1;33m\u001b[0m\u001b[0m\n\u001b[0;32m      3\u001b[0m \u001b[0mprint\u001b[0m\u001b[1;33m(\u001b[0m\u001b[1;34m\"RMSE: %0.2f (+/- %0.2f)\"\u001b[0m \u001b[1;33m%\u001b[0m \u001b[1;33m(\u001b[0m\u001b[0mcv_results_RF\u001b[0m\u001b[1;33m.\u001b[0m\u001b[0mmean\u001b[0m\u001b[1;33m(\u001b[0m\u001b[1;33m)\u001b[0m\u001b[1;33m,\u001b[0m \u001b[0mcv_results_RF\u001b[0m\u001b[1;33m.\u001b[0m\u001b[0mstd\u001b[0m\u001b[1;33m(\u001b[0m\u001b[1;33m)\u001b[0m \u001b[1;33m*\u001b[0m \u001b[1;36m2\u001b[0m\u001b[1;33m)\u001b[0m\u001b[1;33m)\u001b[0m\u001b[1;33m\u001b[0m\u001b[1;33m\u001b[0m\u001b[0m\n\u001b[1;32m----> 4\u001b[1;33m \u001b[0mRMSE_Results\u001b[0m\u001b[1;33m.\u001b[0m\u001b[0mappend\u001b[0m\u001b[1;33m(\u001b[0m\u001b[0mcv_results_RF\u001b[0m\u001b[1;33m.\u001b[0m\u001b[0mmean\u001b[0m\u001b[1;33m(\u001b[0m\u001b[1;33m)\u001b[0m\u001b[1;33m)\u001b[0m\u001b[1;33m\u001b[0m\u001b[1;33m\u001b[0m\u001b[0m\n\u001b[0m",
      "\u001b[1;31mNameError\u001b[0m: name 'RMSE_Results' is not defined"
     ]
    }
   ],
   "source": [
    "# Ensuring RMSE, using cross validation\n",
    "cv_results_RF = np.sqrt(-cross_val_score(gs_pipe_RF, features_scaled_sample, target_sample, scoring='neg_mean_squared_error'))\n",
    "print(\"RMSE: %0.2f (+/- %0.2f)\" % (cv_results_RF.mean(), cv_results_RF.std() * 2))\n",
    "RMSE_Results.append(cv_results_RF.mean())"
   ]
  },
  {
   "cell_type": "markdown",
   "metadata": {},
   "source": [
    "# Grid search for finding best parameters for K Nearest Neigbors Regressor\n",
    "\n",
    "After random forest regressor, we will try another very popular machine learning algorithnm KNN, but before we will again scale features with MIn-Max scaler, where we will pass all similar parameters as above regressor and neighbours 8 and 10. For scoring, we will use mean squared error.\n",
    "."
   ]
  },
  {
   "cell_type": "code",
   "execution_count": 58,
   "metadata": {
    "collapsed": true
   },
   "outputs": [],
   "source": [
    "# Before buidling KNN model, lets scale using Min-Max scaler, as earlier we used standard scaler for normalization\n",
    "# scaling the features using standard scaler, followed by data sampling and splitting into train test arrays\n",
    "scaler = preprocessing.MinMaxScaler()\n",
    "features_scaled = scaler.fit_transform(features)"
   ]
  },
  {
   "cell_type": "code",
   "execution_count": 59,
   "metadata": {},
   "outputs": [
    {
     "name": "stdout",
     "output_type": "stream",
     "text": [
      "total_data : (25345, 100)\n",
      "sample Taken: 15000\n",
      "Feature's Shape:  (15000, 99)\n",
      "target's Shape:  (15000, 1)\n"
     ]
    }
   ],
   "source": [
    "# sample size\n",
    "print('total_data :', df.shape)\n",
    "n_samples = 15000\n",
    "print('sample Taken:',n_samples)\n",
    "features_scaled_sample = pd.DataFrame(features_scaled).sample(n=n_samples, random_state=1).values\n",
    "target_sample = pd.DataFrame(target).sample(n=n_samples, random_state=1).values\n",
    "\n",
    "print(\"Feature's Shape: \" ,features_scaled_sample.shape)\n",
    "print (\"target's Shape: \", target_sample.shape)"
   ]
  },
  {
   "cell_type": "code",
   "execution_count": 66,
   "metadata": {
    "collapsed": true
   },
   "outputs": [],
   "source": [
    "#spliting the training and testing data, keeping 20% for testing and rest for training. \n",
    "features_scaled_sample_train, features_scaled_sample_test, target_sample_train, target_sample_test = train_test_split(features_scaled_sample, target_sample, test_size = 0.20, random_state = 42)"
   ]
  },
  {
   "cell_type": "code",
   "execution_count": 67,
   "metadata": {},
   "outputs": [
    {
     "name": "stdout",
     "output_type": "stream",
     "text": [
      "Fitting 5 folds for each of 12 candidates, totalling 60 fits\n"
     ]
    },
    {
     "name": "stderr",
     "output_type": "stream",
     "text": [
      "[Parallel(n_jobs=-1)]: Using backend LokyBackend with 8 concurrent workers.\n",
      "[Parallel(n_jobs=-1)]: Done  34 tasks      | elapsed:  3.1min\n",
      "[Parallel(n_jobs=-1)]: Done  60 out of  60 | elapsed:  5.0min finished\n"
     ]
    }
   ],
   "source": [
    "from sklearn.pipeline import Pipeline\n",
    "from sklearn.neighbors import KNeighborsRegressor\n",
    "\n",
    "pipe_KNN = Pipeline(steps=[('rfi_fs', RFIFeatureSelector()), \n",
    "                           ('knn', KNeighborsRegressor())])\n",
    "\n",
    "\n",
    "\n",
    "params_pipe_KNN = {'rfi_fs__n_features_': [5, 6, features_scaled.shape[1]],\n",
    "                   'knn__n_neighbors': [8,10],\n",
    "                   'knn__p': [1, 2]}\n",
    "\n",
    "gs_pipe_KNN = GridSearchCV(estimator=pipe_KNN, \n",
    "                           param_grid=params_pipe_KNN, \n",
    "                           cv=5,\n",
    "                           refit=True,\n",
    "                           n_jobs=-1,\n",
    "                           scoring='neg_mean_squared_error',\n",
    "                           verbose=1) \n",
    "gs_pipe_KNN.fit(features_scaled_sample_train, target_sample_train);"
   ]
  },
  {
   "cell_type": "code",
   "execution_count": 68,
   "metadata": {},
   "outputs": [
    {
     "name": "stdout",
     "output_type": "stream",
     "text": [
      "Best Grid Score: -0.3423509877801501\n",
      "Best Parameters: {'knn__n_neighbors': 10, 'knn__p': 1, 'rfi_fs__n_features_': 99}\n"
     ]
    }
   ],
   "source": [
    "# Grid search has returned following best paramenters and score\n",
    "print('Best Grid Score:', gs_pipe_KNN.best_score_)\n",
    "print('Best Parameters:', gs_pipe_KNN.best_params_)"
   ]
  },
  {
   "cell_type": "code",
   "execution_count": 63,
   "metadata": {},
   "outputs": [
    {
     "name": "stdout",
     "output_type": "stream",
     "text": [
      "Fitting 5 folds for each of 12 candidates, totalling 60 fits\n"
     ]
    },
    {
     "name": "stderr",
     "output_type": "stream",
     "text": [
      "[Parallel(n_jobs=-1)]: Using backend LokyBackend with 4 concurrent workers.\n",
      "[Parallel(n_jobs=-1)]: Done  42 tasks      | elapsed:  3.4min\n",
      "[Parallel(n_jobs=-1)]: Done  60 out of  60 | elapsed:  4.8min finished\n"
     ]
    },
    {
     "name": "stdout",
     "output_type": "stream",
     "text": [
      "Fitting 5 folds for each of 12 candidates, totalling 60 fits\n"
     ]
    },
    {
     "name": "stderr",
     "output_type": "stream",
     "text": [
      "[Parallel(n_jobs=-1)]: Using backend LokyBackend with 4 concurrent workers.\n",
      "[Parallel(n_jobs=-1)]: Done  42 tasks      | elapsed:  3.4min\n",
      "[Parallel(n_jobs=-1)]: Done  60 out of  60 | elapsed:  4.9min finished\n"
     ]
    },
    {
     "name": "stdout",
     "output_type": "stream",
     "text": [
      "Fitting 5 folds for each of 12 candidates, totalling 60 fits\n"
     ]
    },
    {
     "name": "stderr",
     "output_type": "stream",
     "text": [
      "[Parallel(n_jobs=-1)]: Using backend LokyBackend with 4 concurrent workers.\n",
      "[Parallel(n_jobs=-1)]: Done  42 tasks      | elapsed:  3.5min\n",
      "[Parallel(n_jobs=-1)]: Done  60 out of  60 | elapsed:  5.0min finished\n"
     ]
    },
    {
     "name": "stdout",
     "output_type": "stream",
     "text": [
      "RMSE: 0.58 (+/- 0.01)\n"
     ]
    }
   ],
   "source": [
    "# Ensuring RMSE, using cross validation\n",
    "cv_results_KNN = np.sqrt(-cross_val_score(gs_pipe_KNN, features_scaled_sample, target_sample, scoring='neg_mean_squared_error'))\n",
    "print(\"RMSE: %0.2f (+/- %0.2f)\" % (cv_results_KNN.mean(), cv_results_KNN.std() * 2))\n",
    "RMSE_Results.append(cv_results_KNN.mean())"
   ]
  },
  {
   "cell_type": "markdown",
   "metadata": {},
   "source": [
    "# Regression with Gradient Boosting Regressor"
   ]
  },
  {
   "cell_type": "markdown",
   "metadata": {},
   "source": [
    "Next, we will build Regression Gradient Boosting Regressor and passing parameters"
   ]
  },
  {
   "cell_type": "code",
   "execution_count": 64,
   "metadata": {},
   "outputs": [
    {
     "name": "stdout",
     "output_type": "stream",
     "text": [
      "RMSE: 0.5794\n"
     ]
    }
   ],
   "source": [
    "from sklearn.ensemble import GradientBoostingRegressor\n",
    "# set parameters for regression\n",
    "params = {'n_estimators': 500, 'max_depth': 4, 'min_samples_split': 2,\n",
    "          'learning_rate': 0.01, 'loss': 'ls'}\n",
    "model_gb = GradientBoostingRegressor(**params)\n",
    "# Fit regression model\n",
    "model_gb.fit(features_scaled_sample_train, target_sample_train)\n",
    "rmse =np.sqrt( mean_squared_error(target_sample_test, model_gb.predict(features_scaled_sample_test)))\n",
    "print(\"RMSE: %.4f\" % rmse)"
   ]
  },
  {
   "cell_type": "code",
   "execution_count": 65,
   "metadata": {},
   "outputs": [
    {
     "name": "stdout",
     "output_type": "stream",
     "text": [
      "RMSE: 0.58 (+/- 0.01)\n"
     ]
    }
   ],
   "source": [
    "# Ensuring RMSE, using cross validation\n",
    "from sklearn.model_selection import cross_val_score\n",
    "cv_results_GB = np.sqrt(-cross_val_score(model_gb, features_scaled_sample, target_sample, scoring='neg_mean_squared_error'))\n",
    "print(\"RMSE: %0.2f (+/- %0.2f)\" % (cv_results_GB.mean(), cv_results_GB.std() * 2))\n",
    "RMSE_Results.append(cv_results_GB.mean())"
   ]
  },
  {
   "cell_type": "markdown",
   "metadata": {},
   "source": [
    "# # Regression with XG Boost Regressor "
   ]
  },
  {
   "cell_type": "markdown",
   "metadata": {},
   "source": [
    "At last,as an experiment with ensemble technique, we will build regression model with XG Boost regressor, passing parameters."
   ]
  },
  {
   "cell_type": "code",
   "execution_count": 66,
   "metadata": {},
   "outputs": [
    {
     "name": "stdout",
     "output_type": "stream",
     "text": [
      "RMSE: 0.678761\n"
     ]
    }
   ],
   "source": [
    "# XG Boost model, which calculates RMSE \n",
    "import xgboost as xgb\n",
    "\n",
    "data_dmatrix = xgb.DMatrix(data=features_scaled_sample,label=target_sample)\n",
    "\n",
    "xg_reg = xgb.XGBRegressor(objective ='reg:linear', colsample_bytree = 0.3, learning_rate = 0.1,\n",
    "                max_depth = 5, alpha = 10, n_estimators = 10)\n",
    "\n",
    "xg_reg.fit(features_scaled_sample_train, target_sample_train)\n",
    "\n",
    "preds = xg_reg.predict(features_scaled_sample_test)\n",
    "\n",
    "rmse = np.sqrt(mean_squared_error(target_sample_test, preds))\n",
    "print(\"RMSE: %f\" % (rmse))"
   ]
  },
  {
   "cell_type": "code",
   "execution_count": 67,
   "metadata": {},
   "outputs": [
    {
     "name": "stdout",
     "output_type": "stream",
     "text": [
      "RMSE: 0.68 (+/- 0.01)\n"
     ]
    }
   ],
   "source": [
    "# Ensuring RMSE, using cross validation\n",
    "cv_results_XG = np.sqrt(-cross_val_score(xg_reg, features_scaled_sample, target_sample, scoring='neg_mean_squared_error'))\n",
    "print(\"RMSE: %0.2f (+/- %0.2f)\" % (cv_results_XG.mean(), cv_results_XG.std() * 2))\n",
    "RMSE_Results.append((cv_results_XG).mean())"
   ]
  },
  {
   "cell_type": "markdown",
   "metadata": {},
   "source": [
    "# Performance comparison"
   ]
  },
  {
   "cell_type": "markdown",
   "metadata": {},
   "source": [
    "After all model parameter tuning, now we know which are the best parameters for all the regressors, Thus, we can now compare which will be the best regressor for this study, using t test, where we compare all the cross validation errors with each other."
   ]
  },
  {
   "cell_type": "code",
   "execution_count": 68,
   "metadata": {},
   "outputs": [
    {
     "name": "stdout",
     "output_type": "stream",
     "text": [
      "                       Results\n",
      "Decision Tree         0.595462\n",
      "Random Forest         0.575133\n",
      "K Nearest Neighbours  0.583498\n",
      "Gradient Boosting     0.580861\n",
      "XG Boost              0.682004\n"
     ]
    },
    {
     "data": {
      "image/png": "[encoded data removed]",
      "text/plain": [
       "<Figure size 1440x720 with 1 Axes>"
      ]
     },
     "metadata": {},
     "output_type": "display_data"
    }
   ],
   "source": [
    "# creating datframe to compare results visually\n",
    "# initialise data of lists. \n",
    "\n",
    "Regressors = ['Decision Tree', 'Random Forest', 'KNN', 'Gradient Boosting', 'XG Boost' ]  \n",
    "RMSE_Results = [(cv_results_DT).mean(), (cv_results_RF).mean(), (cv_results_KNN).mean(), (cv_results_GB).mean(), (cv_results_XG).mean()]\n",
    "data = {'Results':RMSE_Results } \n",
    "# Creates pandas DataFrame. \n",
    "df = pd.DataFrame(data, index = ['Decision Tree', 'Random Forest', 'K Nearest Neighbours', 'Gradient Boosting', 'XG Boost' ]) \n",
    "\n",
    "# print the data \n",
    "print(df)\n",
    "\n",
    "# plot the dataframe\n",
    "df.plot(kind = 'bar') \n",
    "plt.ylabel('RMSE Score')\n",
    "plt.xlabel('Models')\n",
    "plt.show()"
   ]
  },
  {
   "cell_type": "code",
   "execution_count": 69,
   "metadata": {},
   "outputs": [
    {
     "data": {
      "image/png": "[encoded data removed]",
      "text/plain": [
       "<Figure size 1440x720 with 1 Axes>"
      ]
     },
     "metadata": {},
     "output_type": "display_data"
    }
   ],
   "source": [
    "# boxplot algorithm comparison\n",
    "\n",
    "df.plot(kind = 'line') \n",
    "plt.ylabel('RMSE Score')\n",
    "plt.xlabel('Models')\n",
    "plt.xticks(np.arange(5),labels = Regressors)\n",
    "plt.show()"
   ]
  },
  {
   "cell_type": "code",
   "execution_count": 70,
   "metadata": {},
   "outputs": [
    {
     "name": "stdout",
     "output_type": "stream",
     "text": [
      "Ttest_relResult(statistic=-13.666923800615335, pvalue=0.0053111405596796115)\n",
      "Ttest_relResult(statistic=5.155010060610004, pvalue=0.03563149431812278)\n",
      "Ttest_relResult(statistic=-2.6938665858951083, pvalue=0.11459311601253507)\n"
     ]
    }
   ],
   "source": [
    "# performance comparison stastically, using t-test\n",
    "from scipy import stats\n",
    "print(stats.ttest_rel(cv_results_RF, cv_results_DT))\n",
    "print(stats.ttest_rel(cv_results_DT, cv_results_KNN))\n",
    "print(stats.ttest_rel(cv_results_RF, cv_results_KNN))"
   ]
  },
  {
   "cell_type": "markdown",
   "metadata": {},
   "source": [
    "**t-test Hypothesis testing for performance significance**\n",
    "\n",
    "Objective 1. Performance of Random Forest is significantly different from that of Decision Tree\n",
    "Objective 2. Performance of Decision Tree is significantly different from that of KNN\n",
    "Objective 3. Performance of Random Forest is significantly different from that of KNN\n",
    "\n",
    "Null hypothesis: H0\n",
    "\n",
    ": The performance of Decision Tree & Random Forest is identical  Vs\n",
    "\n",
    "Alternative hypothesis Ha\n",
    "\n",
    ": The performance of Decision Tree & Random Forest is significantly different\n",
    "\n",
    "At 95% confidence.\n",
    "\n",
    "We observe a smaller p-value, than 0.05 for objective 1, which is our theshold value then we can reject the null hypothesis of identical performance of Decision Tree & Random Forest and accept the alternative hypothesis, which implies that the difference is significant. Thus we choose the model with lower RMSE as a better choice. In this case it is random forest. Likewise for objective 2 and 3, we can compare other two performances, which shows decision tree over K Nearest Neighbours, and random forest over K Nearest Neighbours, respectively. Thus, we can conclude that random forest outperforms decion tree and K Nearest Neighbours."
   ]
  },
  {
   "cell_type": "code",
   "execution_count": 71,
   "metadata": {},
   "outputs": [
    {
     "name": "stdout",
     "output_type": "stream",
     "text": [
      "Statistics=313.79, p=0.0000000002\n",
      "The performance of all 5 regressors are significantly different (reject H0)\n"
     ]
    }
   ],
   "source": [
    "# performance comparison stastically, using Anova test\n",
    "from scipy.stats import f_oneway\n",
    "statistics, p_value = f_oneway(cv_results_RF, cv_results_DT, cv_results_KNN, cv_results_GB, cv_results_XG)\n",
    "print('Statistics=%0.2f, p=%0.10f' % (statistics, p_value))\n",
    "# interpret\n",
    "alpha = 0.05\n",
    "if p_value > alpha:\n",
    "    print('The performance of all 5 regressors are identical (fail to reject H0)')\n",
    "else:\n",
    "    print('The performance of all 5 regressors are significantly different (reject H0)')"
   ]
  },
  {
   "cell_type": "markdown",
   "metadata": {},
   "source": [
    "**Anova-test Hypothesis testing for performance significance**\n",
    "\n",
    "Null hypothesis: H0\n",
    "\n",
    ": The performance of all 5 regressors are identical  Vs\n",
    "\n",
    "Alternative hypothesis Ha\n",
    "\n",
    ": The performance of all 5 regressors are significantly different\n",
    "\n",
    "At 95% confidence.\n",
    "\n",
    "We observe a smaller p-value, than 0.05, which is our theshold value then we can reject the null hypothesis of identical performance of all the models and accept the alternative hypothesis, which implies that the difference is significant. Thus we choose the model with lower RMSE as a better choice. In this case it is random forest. Thus, we can conclude that random forest outperforms decion tree and K Nearest Neighbours, Gradient Boosting and XG Boost."
   ]
  },
  {
   "cell_type": "markdown",
   "metadata": {},
   "source": [
    "# Model Deployment"
   ]
  },
  {
   "cell_type": "markdown",
   "metadata": {},
   "source": [
    "Since, random forest regressor is the best model, thus we will select it for deploying to complete set of the data."
   ]
  },
  {
   "cell_type": "code",
   "execution_count": 69,
   "metadata": {
    "collapsed": true
   },
   "outputs": [],
   "source": [
    "#spliting the training and testing data, keeping 20% for testing and rest for training. \n",
    "\n",
    "features_scaled_train, features_scaled_test, target_train, target_test = train_test_split(features_scaled_sample, target_sample, test_size = 0.20, random_state = 42) "
   ]
  },
  {
   "cell_type": "code",
   "execution_count": 70,
   "metadata": {},
   "outputs": [
    {
     "name": "stdout",
     "output_type": "stream",
     "text": [
      "test error: RMSE  0.5737632751304435\n",
      "training error: RMSE  0.5465159646760662\n"
     ]
    }
   ],
   "source": [
    "import joblib\n",
    "from sklearn.metrics import mean_squared_error\n",
    "joblib.dump(gs_pipe_RF.best_estimator_, 'best_rf.pkl', compress = 1)\n",
    "Best_Model = joblib.load('best_rf.pkl')\n",
    "\n",
    "target_test_pred = Best_Model.predict(features_scaled_test)\n",
    "target_train_pred = Best_Model.predict(features_scaled_train)\n",
    "\n",
    "# test error\n",
    "print(\"test error: RMSE \",np.sqrt(mean_squared_error(target_test_pred, target_test)))\n",
    "\n",
    "# training error\n",
    "print(\"training error: RMSE \",np.sqrt(mean_squared_error(target_train_pred, target_train)))\n"
   ]
  },
  {
   "cell_type": "markdown",
   "metadata": {},
   "source": [
    "Now we will take 5 observation from the original dataset and then scale them and finally use our model to predict target variable for those observations."
   ]
  },
  {
   "cell_type": "code",
   "execution_count": 71,
   "metadata": {},
   "outputs": [
    {
     "data": {
      "text/plain": [
       "array([24.86158297,  9.69608241,  9.51228307, 10.84984836, 22.17925889])"
      ]
     },
     "execution_count": 71,
     "metadata": {},
     "output_type": "execute_result"
    }
   ],
   "source": [
    "RF_regressor_deployment = gs_pipe_RF.best_estimator_\n",
    "\n",
    "# deploy the model on entire data\n",
    "RF_regressor_deployment.fit(features_scaled, target)\n",
    "\n",
    "# predict days_replaced for first 5 rows\n",
    "prediction_feature = features.iloc[0:5, ]\n",
    "\n",
    "# scale these observations using the standard scaler that was fitted to the input data\n",
    "prediction = scaler.transform(prediction_feature)\n",
    "\n",
    "# use the model's predict function for making a prediction for these five observations\n",
    "final_prediction = RF_regressor_deployment.predict(prediction)\n",
    "\n",
    "# prediction will the logrithmic value, as we have taken the log of target variable. Following will inverse the prediction\n",
    "# and round it off\n",
    "10**final_prediction"
   ]
  },
  {
   "cell_type": "code",
   "execution_count": 72,
   "metadata": {},
   "outputs": [
    {
     "ename": "NameError",
     "evalue": "name 'clf' is not defined",
     "output_type": "error",
     "traceback": [
      "\u001b[1;31m---------------------------------------------------------------------------\u001b[0m",
      "\u001b[1;31mNameError\u001b[0m                                 Traceback (most recent call last)",
      "\u001b[1;32m<ipython-input-72-79e84b1e6dcc>\u001b[0m in \u001b[0;36m<module>\u001b[1;34m\u001b[0m\n\u001b[0;32m      2\u001b[0m \u001b[1;33m\u001b[0m\u001b[0m\n\u001b[0;32m      3\u001b[0m \u001b[1;32mwith\u001b[0m \u001b[0mopen\u001b[0m\u001b[1;33m(\u001b[0m\u001b[1;34m'/Users/saurabh/Desktop/rf.pickle'\u001b[0m\u001b[1;33m,\u001b[0m \u001b[1;34m'wb'\u001b[0m\u001b[1;33m)\u001b[0m \u001b[1;32mas\u001b[0m \u001b[0mmodel_pkl\u001b[0m\u001b[1;33m:\u001b[0m\u001b[1;33m\u001b[0m\u001b[1;33m\u001b[0m\u001b[0m\n\u001b[1;32m----> 4\u001b[1;33m     \u001b[0mpickle\u001b[0m\u001b[1;33m.\u001b[0m\u001b[0mdump\u001b[0m\u001b[1;33m(\u001b[0m\u001b[0mclf\u001b[0m\u001b[1;33m,\u001b[0m \u001b[0mmodel_pkl\u001b[0m\u001b[1;33m)\u001b[0m\u001b[1;33m\u001b[0m\u001b[1;33m\u001b[0m\u001b[0m\n\u001b[0m",
      "\u001b[1;31mNameError\u001b[0m: name 'clf' is not defined"
     ]
    }
   ],
   "source": [
    "import pickle\n",
    "\n",
    "with open('/Users/saurabh/Desktop/rf.pickle', 'wb') as model_pkl:\n",
    "    pickle.dump(clf, model_pkl)"
   ]
  },
  {
   "cell_type": "markdown",
   "metadata": {},
   "source": [
    "# Limitation and proposed solution"
   ]
  },
  {
   "cell_type": "markdown",
   "metadata": {},
   "source": [
    "Limited computational power has been one of the major challenge for this study, as hyperparameter tuning requires lots of computational power, not all the parameters have been explored. However, small dataset has been used to find best parameters, which serves the purpose but definitely can be considered as another limitation of this study.\n",
    "Thirdly, not all the possible regressors have been tried to evalute the performace, which certainly limits the finding of the study."
   ]
  },
  {
   "cell_type": "markdown",
   "metadata": {},
   "source": [
    "# Summary\n",
    "In this study for predicting days taken to return to the sport after an injury, we have applied 5 regressor using hyperparameter tuning with grid search, out of which, randaom forest performs best, with RMSE of 0.33 To confirm the performance, we also calculated RMSE 0.58, using cross validation, which validates our finding. In order to assure the statistical significance, we implemented paired t-test. Once we found the best model, we applied to the entire data, for which also splitted into test and train sets and we calculated RMSE for them, which comes to 0.723 for train data and 0.721 for test data. The cross validated RMSE for test and train data are very close, which confirms that, there is no overfitting present in the model building.  \n"
   ]
  },
  {
   "cell_type": "markdown",
   "metadata": {},
   "source": [
    "# References"
   ]
  },
  {
   "cell_type": "markdown",
   "metadata": {},
   "source": [
    "Jones E, Oliphant E, Peterson P, et al. SciPy: Open Source Scientific Tools for Python, 2001-, http://www.scipy.org/ [Accessed 2019-06-15].\n",
    "\n",
    "Lichman, M. (2013). UCI Machine Learning Repository: Census Income Data Set [online]. Available at https://archive.ics.uci.edu/ml/datasets/adult [Accessed 2019-06-15]   \n",
    "\n",
    "Eryk Lewinson. Explaining Feature Importance by example of a Random Forest, Feb 2011-,https://towardsdatascience.com/explaining-feature-importance-by-example-of-a-random-forest-d9166011959e [Accessed 2019-06-15].\n",
    "\n",
    "Jason Brownlee. Feature Importance and Feature Selection With XGBoost in Python, August 31, 2016, https://machinelearningmastery.com/feature-importance-and-feature-selection-with-xgboost-in-python/ [Accessed 2019-06-15].\n",
    "\n",
    "Dr. Vural Aksakalli. Case study 1 Predicting Income Status(sample report), 2019, https://rmit.instructure.com/courses/50786/pages/python-resources [Accessed 2019-06-15].\n"
   ]
  }
 ],
 "metadata": {
  "kernelspec": {
   "display_name": "Python 3",
   "language": "python",
   "name": "python3"
  },
  "language_info": {
   "codemirror_mode": {
    "name": "ipython",
    "version": 3
   },
   "file_extension": ".py",
   "mimetype": "text/x-python",
   "name": "python",
   "nbconvert_exporter": "python",
   "pygments_lexer": "ipython3",
   "version": "3.7.3"
  },
  "toc": {
   "base_numbering": 1,
   "nav_menu": {},
   "number_sections": true,
   "sideBar": true,
   "skip_h1_title": false,
   "title_cell": "Table of Contents",
   "title_sidebar": "Contents",
   "toc_cell": false,
   "toc_position": {},
   "toc_section_display": true,
   "toc_window_display": false
  }
 },
 "nbformat": 4,
 "nbformat_minor": 1
}
